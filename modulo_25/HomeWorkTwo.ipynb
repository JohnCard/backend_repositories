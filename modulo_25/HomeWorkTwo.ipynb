{
 "cells": [
  {
   "cell_type": "code",
   "execution_count": 2,
   "id": "b5ea2aac-4186-4d73-a2b2-f4dab1474ddb",
   "metadata": {},
   "outputs": [
    {
     "name": "stdout",
     "output_type": "stream",
     "text": [
      "root\n",
      " |-- name: string (nullable = true)\n",
      " |-- main_category: string (nullable = true)\n",
      " |-- sub_category: string (nullable = true)\n",
      " |-- image: string (nullable = true)\n",
      " |-- link: string (nullable = true)\n",
      " |-- ratings: string (nullable = true)\n",
      " |-- no_of_ratings: string (nullable = true)\n",
      " |-- discount_price: string (nullable = true)\n",
      " |-- actual_price: string (nullable = true)\n",
      "\n"
     ]
    }
   ],
   "source": [
    "from pyspark import SparkConf, SparkContext\n",
    "conf = SparkConf().setAppName('Intro a DataFrames')\n",
    "sc = SparkContext().getOrCreate(conf=conf)\n",
    " \n",
    "from pyspark.sql import SparkSession\n",
    "spark = SparkSession.builder.getOrCreate()\n",
    "\n",
    "df = spark.read.options(header='True',inferSchema='True').csv('All Exercise and Fitness.csv')\n",
    "df.printSchema()"
   ]
  },
  {
   "cell_type": "code",
   "execution_count": 3,
   "id": "ac753e5c-1f2f-47e1-8c82-139f29cd693e",
   "metadata": {},
   "outputs": [
    {
     "name": "stdout",
     "output_type": "stream",
     "text": [
      "+--------------------+----------------+--------------------+--------------------+--------------------+-------+-------------+--------------+------------+\n",
      "|                name|   main_category|        sub_category|               image|                link|ratings|no_of_ratings|discount_price|actual_price|\n",
      "+--------------------+----------------+--------------------+--------------------+--------------------+-------+-------------+--------------+------------+\n",
      "|Kore Regular Gym Bag|sports & fitness|All Exercise & Fi...|https://m.media-a...|https://www.amazo...|    2.9|        3,836|          null|         ₹59|\n",
      "|Boldfit Resistanc...|sports & fitness|All Exercise & Fi...|https://m.media-a...|https://www.amazo...|    4.0|        3,018|          ₹279|        ₹699|\n",
      "|Strauss Exercise ...|sports & fitness|All Exercise & Fi...|https://m.media-a...|https://www.amazo...|    4.1|        4,403|          ₹489|      ₹1,049|\n",
      "|AUXTER Faux Leath...|sports & fitness|All Exercise & Fi...|https://m.media-a...|https://www.amazo...|    4.3|        8,901|          ₹376|        ₹999|\n",
      "|Kore PVC 10-40 Kg...|sports & fitness|All Exercise & Fi...|https://m.media-a...|https://www.amazo...|    3.6|       33,078|        ₹1,049|      ₹4,090|\n",
      "+--------------------+----------------+--------------------+--------------------+--------------------+-------+-------------+--------------+------------+\n",
      "only showing top 5 rows\n",
      "\n"
     ]
    }
   ],
   "source": [
    "df.show(5)"
   ]
  },
  {
   "cell_type": "code",
   "execution_count": 4,
   "id": "e35dc764-ea09-4e4e-a906-2c257255bf82",
   "metadata": {},
   "outputs": [
    {
     "name": "stdout",
     "output_type": "stream",
     "text": [
      "+--------------------+----------------+--------------------+--------------------+--------------------+-------+-------------+--------------+------------+\n",
      "|                name|   main_category|        sub_category|               image|                link|ratings|no_of_ratings|discount_price|actual_price|\n",
      "+--------------------+----------------+--------------------+--------------------+--------------------+-------+-------------+--------------+------------+\n",
      "|Kore Regular Gym Bag|sports & fitness|All Exercise & Fi...|https://m.media-a...|https://www.amazo...|    2.9|        3,836|          null|         ₹59|\n",
      "+--------------------+----------------+--------------------+--------------------+--------------------+-------+-------------+--------------+------------+\n",
      "\n"
     ]
    }
   ],
   "source": [
    "df.filter(df['name'] == 'Kore Regular Gym Bag').show()"
   ]
  },
  {
   "cell_type": "code",
   "execution_count": 5,
   "id": "dc021825-fc0f-4f81-8a22-165e204a49ed",
   "metadata": {},
   "outputs": [
    {
     "name": "stdout",
     "output_type": "stream",
     "text": [
      "+--------------------+--------------------+--------------------+--------------------+--------------------+--------------------+--------------------+--------------------+--------------------+\n",
      "|                name|       main_category|        sub_category|               image|                link|             ratings|       no_of_ratings|      discount_price|        actual_price|\n",
      "+--------------------+--------------------+--------------------+--------------------+--------------------+--------------------+--------------------+--------------------+--------------------+\n",
      "|\"5 O' CLOCK SPORT...|Shoulder Bag for ...|    sports & fitness|All Exercise & Fi...|https://m.media-a...|https://www.amazo...|                 4.5|                  29|                ₹489|\n",
      "|\"AURION Wrist Wra...|                Xfit|                ...\"|    sports & fitness|All Exercise & Fi...|https://m.media-a...|https://www.amazo...|                 3.8|                  50|\n",
      "|\"EasyHealth Profe...| Wrist Supporter ...| Gym Accessories ...|    sports & fitness|All Exercise & Fi...|https://m.media-a...|https://www.amazo...|                 4.3|                 606|\n",
      "|\"GOCART WITH G LO...|       Power Lifting|             Workout|       Weightlifting|          Cross ...\"|    sports & fitness|All Exercise & Fi...|https://m.media-a...|https://www.amazo...|\n",
      "|\"IRIS Fitness Wei...|    sports & fitness|All Exercise & Fi...|https://m.media-a...|https://www.amazo...|                 5.0|                   1|                ₹999|              ₹2,000|\n",
      "|\"Kobo 4\"\" Leather...|    sports & fitness|All Exercise & Fi...|https://m.media-a...|https://www.amazo...|                 3.7|                  79|              ₹1,399|              ₹1,600|\n",
      "|\"Yoga Land Guru L...|    sports & fitness|All Exercise & Fi...|https://m.media-a...|https://www.amazo...|                 4.2|                  47|                ₹849|              ₹1,699|\n",
      "|24SHOPPING Men's ...|    sports & fitness|All Exercise & Fi...|https://m.media-a...|https://www.amazo...|                 3.6|                  12|                ₹799|              ₹1,999|\n",
      "|5 O' CLOCK SPORTS...|    sports & fitness|All Exercise & Fi...|https://m.media-a...|https://www.amazo...|                 5.0|                   1|                ₹462|                ₹800|\n",
      "|5 O' CLOCK SPORTS...|    sports & fitness|All Exercise & Fi...|https://m.media-a...|https://www.amazo...|                 3.7|                   2|                ₹468|                ₹800|\n",
      "|5 O'CLOCK SPORTS ...|    sports & fitness|All Exercise & Fi...|https://m.media-a...|https://www.amazo...|                 4.2|                  72|                ₹839|              ₹2,500|\n",
      "|5 O'CLOCK SPORTS ...|    sports & fitness|All Exercise & Fi...|https://m.media-a...|https://www.amazo...|                 3.6|                   5|                ₹306|                ₹900|\n",
      "|8 Shaped Walking ...|    sports & fitness|All Exercise & Fi...|https://m.media-a...|https://www.amazo...|                 3.8|                   6|                ₹999|              ₹1,999|\n",
      "|A to Z Creation S...|    sports & fitness|All Exercise & Fi...|https://m.media-a...|https://www.amazo...|                 2.7|                  26|                ₹899|              ₹1,999|\n",
      "|A-ONE BRA Women's...|    sports & fitness|All Exercise & Fi...|https://m.media-a...|https://www.amazo...|                 4.3|                 173|                ₹598|                ₹599|\n",
      "|A2S2 3 PCS Latex ...|    sports & fitness|All Exercise & Fi...|https://m.media-a...|https://www.amazo...|                 3.3|                  37|                ₹299|              ₹1,499|\n",
      "|A2S2 Latex Rubber...|    sports & fitness|All Exercise & Fi...|https://m.media-a...|https://www.amazo...|                 3.2|                  18|                ₹299|              ₹1,499|\n",
      "|A2S2 Latex Rubber...|    sports & fitness|All Exercise & Fi...|https://m.media-a...|https://www.amazo...|                 4.1|                  65|                ₹325|              ₹1,799|\n",
      "|ABOUT SPACE Trave...|    sports & fitness|All Exercise & Fi...|https://m.media-a...|https://www.amazo...|                null|                null|                null|                ₹649|\n",
      "|ABSOLUTE DEFENSE ...|    sports & fitness|All Exercise & Fi...|https://m.media-a...|https://www.amazo...|                 4.0|                  61|                ₹799|              ₹1,299|\n",
      "+--------------------+--------------------+--------------------+--------------------+--------------------+--------------------+--------------------+--------------------+--------------------+\n",
      "only showing top 20 rows\n",
      "\n"
     ]
    }
   ],
   "source": [
    "df.dropDuplicates(['name','ratings']).show()"
   ]
  },
  {
   "cell_type": "code",
   "execution_count": 6,
   "id": "2896b75e-e48a-485f-9d89-247be237af23",
   "metadata": {},
   "outputs": [
    {
     "name": "stdout",
     "output_type": "stream",
     "text": [
      "+-------+\n",
      "|ratings|\n",
      "+-------+\n",
      "|    1.0|\n",
      "|    2.6|\n",
      "|    3.1|\n",
      "|    4.2|\n",
      "|    3.8|\n",
      "+-------+\n",
      "only showing top 5 rows\n",
      "\n"
     ]
    }
   ],
   "source": [
    "df.select('ratings').distinct().show(5)"
   ]
  },
  {
   "cell_type": "code",
   "execution_count": 7,
   "id": "116069a3-d88b-464b-bf9f-9c3f1985acee",
   "metadata": {},
   "outputs": [
    {
     "name": "stdout",
     "output_type": "stream",
     "text": [
      "+--------------------+--------------------+--------------------+--------------------+--------------------+--------------------+--------------------+--------------------+--------------------+\n",
      "|                name|       main_category|        sub_category|               image|                link|             ratings|       no_of_ratings|      discount_price|        actual_price|\n",
      "+--------------------+--------------------+--------------------+--------------------+--------------------+--------------------+--------------------+--------------------+--------------------+\n",
      "|   Adidas Men Shorts|    sports & fitness|All Exercise & Fi...|https://m.media-a...|https://www.amazo...|                 3.8|                  16|                null|                null|\n",
      "|Adidas Men 100% P...|    sports & fitness|All Exercise & Fi...|https://m.media-a...|https://www.amazo...|                null|                null|                null|                null|\n",
      "|Lotto Grey Polyes...|    sports & fitness|All Exercise & Fi...|https://m.media-a...|https://www.amazo...|                null|                null|                null|                null|\n",
      "|IronMind Captains...|    sports & fitness|All Exercise & Fi...|https://m.media-a...|https://www.amazo...|                 4.8|               2,099|                null|                null|\n",
      "|BIONFIT ON05M Pat...|    sports & fitness|All Exercise & Fi...|https://m.media-a...|https://www.amazo...|                null|                null|                null|                null|\n",
      "|Lotto Black Polye...|    sports & fitness|All Exercise & Fi...|https://m.media-a...|https://www.amazo...|                 3.9|                   4|                null|                null|\n",
      "|Sport Cushioned S...|    sports & fitness|All Exercise & Fi...|https://m.media-a...|https://www.amazo...|                 4.0|                   1|                null|                null|\n",
      "|\"AURION Wrist Wra...|                Xfit|                ...\"|    sports & fitness|All Exercise & Fi...|https://m.media-a...|https://www.amazo...|                 3.8|                  50|\n",
      "|\"EasyHealth Profe...| Wrist Supporter ...| Gym Accessories ...|    sports & fitness|All Exercise & Fi...|https://m.media-a...|https://www.amazo...|                 4.3|                 606|\n",
      "|\"GOCART WITH G LO...|       Power Lifting|             Workout|       Weightlifting|          Cross ...\"|    sports & fitness|All Exercise & Fi...|https://m.media-a...|https://www.amazo...|\n",
      "|TheraBand Resista...|    sports & fitness|All Exercise & Fi...|https://m.media-a...|https://www.amazo...|                 4.2|               1,006|                ₹590|              ₹1,000|\n",
      "|Shopoflux® Heavy ...|    sports & fitness|All Exercise & Fi...|https://m.media-a...|https://www.amazo...|                 4.4|                 106|                ₹569|              ₹1,000|\n",
      "|Nivave Sweat Slim...|    sports & fitness|All Exercise & Fi...|https://m.media-a...|https://www.amazo...|                 3.8|                   5|                ₹700|              ₹1,000|\n",
      "|Inditradition Cot...|    sports & fitness|All Exercise & Fi...|https://m.media-a...|https://www.amazo...|                 3.9|               1,241|                ₹649|              ₹1,000|\n",
      "|FitBlaze Tummy Tw...|    sports & fitness|All Exercise & Fi...|https://m.media-a...|https://www.amazo...|                 5.0|                   4|                ₹699|              ₹1,000|\n",
      "+--------------------+--------------------+--------------------+--------------------+--------------------+--------------------+--------------------+--------------------+--------------------+\n",
      "only showing top 15 rows\n",
      "\n"
     ]
    }
   ],
   "source": [
    "df.sort('actual_price').show(15)"
   ]
  },
  {
   "cell_type": "code",
   "execution_count": 8,
   "id": "1bed23a6-1576-4510-97ea-bbf0cd22c2d1",
   "metadata": {},
   "outputs": [
    {
     "name": "stdout",
     "output_type": "stream",
     "text": [
      "+--------------------+--------------------+--------------------+--------------------+--------------------+--------------------+--------------------+--------------------+--------------------+\n",
      "|                name|       main_category|        sub_category|               image|                link|             ratings|       no_of_ratings|      discount_price|        actual_price|\n",
      "+--------------------+--------------------+--------------------+--------------------+--------------------+--------------------+--------------------+--------------------+--------------------+\n",
      "|\"5 O' CLOCK SPORT...|Shoulder Bag for ...|    sports & fitness|All Exercise & Fi...|https://m.media-a...|https://www.amazo...|                 4.5|                  29|                ₹489|\n",
      "|\"AURION Wrist Wra...|                Xfit|                ...\"|    sports & fitness|All Exercise & Fi...|https://m.media-a...|https://www.amazo...|                 3.8|                  50|\n",
      "|\"EasyHealth Profe...| Wrist Supporter ...| Gym Accessories ...|    sports & fitness|All Exercise & Fi...|https://m.media-a...|https://www.amazo...|                 4.3|                 606|\n",
      "|\"GOCART WITH G LO...|       Power Lifting|             Workout|       Weightlifting|          Cross ...\"|    sports & fitness|All Exercise & Fi...|https://m.media-a...|https://www.amazo...|\n",
      "|\"IRIS Fitness Wei...|    sports & fitness|All Exercise & Fi...|https://m.media-a...|https://www.amazo...|                 5.0|                   1|                ₹999|              ₹2,000|\n",
      "|\"Kobo 4\"\" Leather...|    sports & fitness|All Exercise & Fi...|https://m.media-a...|https://www.amazo...|                 3.7|                  79|              ₹1,399|              ₹1,600|\n",
      "|\"Yoga Land Guru L...|    sports & fitness|All Exercise & Fi...|https://m.media-a...|https://www.amazo...|                 4.2|                  47|                ₹849|              ₹1,699|\n",
      "|24SHOPPING Men's ...|    sports & fitness|All Exercise & Fi...|https://m.media-a...|https://www.amazo...|                 3.6|                  12|                ₹799|              ₹1,999|\n",
      "|5 O' CLOCK SPORTS...|    sports & fitness|All Exercise & Fi...|https://m.media-a...|https://www.amazo...|                 5.0|                   1|                ₹462|                ₹800|\n",
      "|5 O' CLOCK SPORTS...|    sports & fitness|All Exercise & Fi...|https://m.media-a...|https://www.amazo...|                 3.7|                   2|                ₹468|                ₹800|\n",
      "|5 O'CLOCK SPORTS ...|    sports & fitness|All Exercise & Fi...|https://m.media-a...|https://www.amazo...|                 4.2|                  72|                ₹839|              ₹2,500|\n",
      "|5 O'CLOCK SPORTS ...|    sports & fitness|All Exercise & Fi...|https://m.media-a...|https://www.amazo...|                 3.6|                   5|                ₹306|                ₹900|\n",
      "|8 Shaped Walking ...|    sports & fitness|All Exercise & Fi...|https://m.media-a...|https://www.amazo...|                 3.8|                   6|                ₹999|              ₹1,999|\n",
      "|A to Z Creation S...|    sports & fitness|All Exercise & Fi...|https://m.media-a...|https://www.amazo...|                 2.7|                  26|                ₹899|              ₹1,999|\n",
      "|A-ONE BRA Women's...|    sports & fitness|All Exercise & Fi...|https://m.media-a...|https://www.amazo...|                 4.3|                 173|                ₹598|                ₹599|\n",
      "+--------------------+--------------------+--------------------+--------------------+--------------------+--------------------+--------------------+--------------------+--------------------+\n",
      "only showing top 15 rows\n",
      "\n"
     ]
    }
   ],
   "source": [
    "df.orderBy('name','no_of_ratings').show(15)"
   ]
  },
  {
   "cell_type": "code",
   "execution_count": 9,
   "id": "4413a640-4076-41a2-b94d-5828cab28d10",
   "metadata": {},
   "outputs": [
    {
     "name": "stdout",
     "output_type": "stream",
     "text": [
      "+--------------------+----------------+--------------------+--------------------+--------------------+-------+--------------------+--------------+------------+\n",
      "|                name|   main_category|        sub_category|               image|                link|ratings|       no_of_ratings|discount_price|actual_price|\n",
      "+--------------------+----------------+--------------------+--------------------+--------------------+-------+--------------------+--------------+------------+\n",
      "|Kore Regular Gym Bag|sports & fitness|All Exercise & Fi...|https://m.media-a...|https://www.amazo...|    2.9|               3,836|          null|         ₹59|\n",
      "|Aurion Weight Ban...|sports & fitness|All Exercise & Fi...|https://m.media-a...|https://www.amazo...|    4.1|               1,925|          null|        ₹199|\n",
      "|Kobo WTG-05 Leath...|sports & fitness|All Exercise & Fi...|https://m.media-a...|https://www.amazo...|    4.0|              12,826|          null|        ₹360|\n",
      "|Fashnex Resistanc...|sports & fitness|All Exercise & Fi...|https://m.media-a...|https://www.amazo...|    4.4|                 541|          null|     ₹479.04|\n",
      "|Jockey Men's Cott...|sports & fitness|All Exercise & Fi...|https://m.media-a...|https://www.amazo...|    4.2|               6,542|          null|        ₹999|\n",
      "|Jockey Women's Ta...|sports & fitness|All Exercise & Fi...|https://m.media-a...|https://www.amazo...|    4.2|               4,207|          null|        ₹519|\n",
      "|Jockey AW87 Women...|sports & fitness|All Exercise & Fi...|https://m.media-a...|https://www.amazo...|    4.3|                 181|          null|        ₹569|\n",
      "|Mini Yoga Pilates...|sports & fitness|All Exercise & Fi...|https://m.media-a...|https://www.amazo...|    4.0|                  16|          null|        ₹251|\n",
      "|Nivia Blend Plain...|sports & fitness|All Exercise & Fi...|https://m.media-a...|https://www.amazo...|    3.9|                 359|          null|        ₹145|\n",
      "|Finger Exerciser ...|sports & fitness|All Exercise & Fi...|https://m.media-a...|https://www.amazo...|    4.6|                  25|          null|        ₹349|\n",
      "|Kore Plastic PVC ...|sports & fitness|All Exercise & Fi...|https://m.media-a...|https://www.amazo...|    3.3|                 318|          null|      ₹2,189|\n",
      "|Aurion Weight Pla...|sports & fitness|All Exercise & Fi...|https://m.media-a...|https://www.amazo...|    3.9|               1,923|          null|        ₹199|\n",
      "|SOLARA Ultra Wide...|sports & fitness|All Exercise & Fi...|https://m.media-a...|https://www.amazo...|    4.3|                 236|          null|      ₹1,199|\n",
      "|Jockey Women Spor...|sports & fitness|All Exercise & Fi...|https://m.media-a...|https://www.amazo...|    4.3|               1,756|          null|        ₹999|\n",
      "|   Adidas Men Shorts|sports & fitness|All Exercise & Fi...|https://m.media-a...|https://www.amazo...|    3.8|                  16|          null|        null|\n",
      "|Jockey Men's Rela...|sports & fitness|All Exercise & Fi...|https://m.media-a...|https://www.amazo...|    3.9|                 314|          null|      ₹1,199|\n",
      "|Aethon Gym Gloves...|sports & fitness|All Exercise & Fi...|https://m.media-a...|https://www.amazo...|    4.1|                 100|          null|        ₹985|\n",
      "|ROL Reoutlook Men...|sports & fitness|All Exercise & Fi...|https://m.media-a...|https://www.amazo...|    3.1|                 620|          null|        ₹895|\n",
      "|PUMA Sport Unisex...|sports & fitness|All Exercise & Fi...|https://m.media-a...|https://www.amazo...|    4.1|                  85|          null|        ₹199|\n",
      "|ABOUT SPACE Trave...|sports & fitness|All Exercise & Fi...|https://m.media-a...|https://www.amazo...|   null|                null|          null|        ₹649|\n",
      "|SG Century Sleeve...|sports & fitness|All Exercise & Fi...|https://m.media-a...|https://www.amazo...|    3.7|                  48|          null|        ₹245|\n",
      "|Raizex Combo Set ...|sports & fitness|All Exercise & Fi...|https://m.media-a...|https://www.amazo...|    4.4|                   9|          null|        ₹349|\n",
      "|Kobo WTA-48 Wrist...|sports & fitness|All Exercise & Fi...|https://m.media-a...|https://www.amazo...|    4.0|                  46|          null|        ₹590|\n",
      "|Kore 1-10 Kg Leat...|sports & fitness|All Exercise & Fi...|https://m.media-a...|https://www.amazo...|    3.9|                  17|          null|        ₹229|\n",
      "|Sport Cushioned S...|sports & fitness|All Exercise & Fi...|https://m.media-a...|https://www.amazo...|    4.0|                   1|          null|        null|\n",
      "|Jockey Women's Su...|sports & fitness|All Exercise & Fi...|https://m.media-a...|https://www.amazo...|    4.3|               5,363|          null|        ₹749|\n",
      "|Jockey 1302 Women...|sports & fitness|All Exercise & Fi...|https://m.media-a...|https://www.amazo...|    4.1|                  26|          null|        ₹949|\n",
      "|Invincible Men’s ...|sports & fitness|All Exercise & Fi...|https://m.media-a...|https://www.amazo...|    3.6|                  53|          null|      ₹1,299|\n",
      "|AURION 1313-BLACK...|sports & fitness|All Exercise & Fi...|https://m.media-a...|https://www.amazo...|    3.6|                  38|          null|        ₹135|\n",
      "|Bodycare Women's ...|sports & fitness|All Exercise & Fi...|https://m.media-a...|https://www.amazo...|    3.5|                  35|          null|        ₹480|\n",
      "|Kobo WTA-10 Power...|sports & fitness|All Exercise & Fi...|https://m.media-a...|https://www.amazo...|    4.0|                 168|          null|      ₹1,444|\n",
      "|Lotto Grey Polyes...|sports & fitness|All Exercise & Fi...|https://m.media-a...|https://www.amazo...|   null|                null|          null|        null|\n",
      "|Elleven Women's S...|sports & fitness|All Exercise & Fi...|https://m.media-a...|https://www.amazo...|   null|                null|          null|        ₹599|\n",
      "|Jockey Women's Re...|sports & fitness|All Exercise & Fi...|https://m.media-a...|https://www.amazo...|    4.1|                 166|          null|        ₹979|\n",
      "|FITSY Chrome Meta...|sports & fitness|All Exercise & Fi...|https://m.media-a...|https://www.amazo...|    4.1|                  60|          null|      ₹1,299|\n",
      "|Jockey Women's St...|sports & fitness|All Exercise & Fi...|https://m.media-a...|https://www.amazo...|    4.1|                  88|          null|      ₹1,399|\n",
      "|TEGO - Socks - An...|sports & fitness|All Exercise & Fi...|https://m.media-a...|https://www.amazo...|    3.5|                   9|          null|        ₹369|\n",
      "|Puma Unisex Ankle...|sports & fitness|All Exercise & Fi...|https://m.media-a...|https://www.amazo...|    4.1|                  58|          null|        ₹599|\n",
      "|Max Women's Cotto...|sports & fitness|All Exercise & Fi...|https://m.media-a...|https://www.amazo...|    3.9|                   7|          null|        ₹399|\n",
      "|USI UNIVERSAL Sna...|sports & fitness|All Exercise & Fi...|https://m.media-a...|https://www.amazo...|    5.0|                   3|          null|      ₹1,699|\n",
      "|AMYDUS Plus Size ...|sports & fitness|All Exercise & Fi...|https://m.media-a...|https://www.amazo...|   null|                null|          null|      ₹2,499|\n",
      "|dermawear Women's...|sports & fitness|All Exercise & Fi...|https://m.media-a...|https://www.amazo...|   null|                null|          null|        ₹999|\n",
      "|Nivia Rattle Spor...|sports & fitness|All Exercise & Fi...|https://m.media-a...|https://www.amazo...|    2.9|                  53|          null|        ₹345|\n",
      "|ATHLET Men's Regu...|sports & fitness|All Exercise & Fi...|https://m.media-a...|https://www.amazo...|    4.3|                  29|          null|        ₹980|\n",
      "|IronMind Captains...|sports & fitness|All Exercise & Fi...|https://m.media-a...|https://www.amazo...|    4.8|               2,099|          null|        null|\n",
      "|Charged Active-00...|sports & fitness|All Exercise & Fi...|https://m.media-a...|https://www.amazo...|    Get|FREE Delivery by ...|          null|      ₹1,198|\n",
      "|dermawear Women C...|sports & fitness|All Exercise & Fi...|https://m.media-a...|https://www.amazo...|    3.9|                 409|          null|        ₹649|\n",
      "|STAG Rubber Coate...|sports & fitness|All Exercise & Fi...|https://m.media-a...|https://www.amazo...|    3.9|                   5|          null|      ₹2,999|\n",
      "|R LON Wristband S...|sports & fitness|All Exercise & Fi...|https://m.media-a...|https://www.amazo...|    3.3|                  17|          null|        ₹199|\n",
      "|Arrowmax TPE Yoga...|sports & fitness|All Exercise & Fi...|https://m.media-a...|https://www.amazo...|    4.4|                 218|          null|        ₹999|\n",
      "|BIONFIT ON05M Pat...|sports & fitness|All Exercise & Fi...|https://m.media-a...|https://www.amazo...|   null|                null|          null|        null|\n",
      "|ATHLET Men's Cott...|sports & fitness|All Exercise & Fi...|https://m.media-a...|https://www.amazo...|    3.7|                  16|          null|        ₹850|\n",
      "| Max Men Track Pants|sports & fitness|All Exercise & Fi...|https://m.media-a...|https://www.amazo...|   null|                null|          null|        ₹599|\n",
      "|Lux Inferno Men's...|sports & fitness|All Exercise & Fi...|https://m.media-a...|https://www.amazo...|    4.3|                  10|          null|        ₹548|\n",
      "|Lotto Black Polye...|sports & fitness|All Exercise & Fi...|https://m.media-a...|https://www.amazo...|    3.9|                   4|          null|        null|\n",
      "+--------------------+----------------+--------------------+--------------------+--------------------+-------+--------------------+--------------+------------+\n",
      "only showing top 55 rows\n",
      "\n"
     ]
    }
   ],
   "source": [
    "df.orderBy('discount_price').show(55)"
   ]
  },
  {
   "cell_type": "code",
   "execution_count": 10,
   "id": "903528cd-81c3-4717-8ad3-648ecd83c01c",
   "metadata": {},
   "outputs": [
    {
     "name": "stdout",
     "output_type": "stream",
     "text": [
      "+--------------------+----------------+--------------------+--------------------+--------------------+-------+-------------+--------------+------------+\n",
      "|                name|   main_category|        sub_category|               image|                link|ratings|no_of_ratings|discount_price|actual_price|\n",
      "+--------------------+----------------+--------------------+--------------------+--------------------+-------+-------------+--------------+------------+\n",
      "|ADILEE Men's Slim...|sports & fitness|All Exercise & Fi...|https://m.media-a...|https://www.amazo...|    3.9|          111|          ₹499|        ₹999|\n",
      "|AGARO High Densit...|sports & fitness|All Exercise & Fi...|https://m.media-a...|https://www.amazo...|    4.3|           70|          ₹679|        ₹999|\n",
      "|ANNACREATIONS Sty...|sports & fitness|All Exercise & Fi...|https://m.media-a...|https://www.amazo...|    4.4|            6|          ₹375|        ₹999|\n",
      "|ANNACREATIONS Sty...|sports & fitness|All Exercise & Fi...|https://m.media-a...|https://www.amazo...|    3.3|            3|          ₹234|        ₹999|\n",
      "|APN Girls Hoody F...|sports & fitness|All Exercise & Fi...|https://m.media-a...|https://www.amazo...|    3.4|            5|          ₹660|        ₹999|\n",
      "+--------------------+----------------+--------------------+--------------------+--------------------+-------+-------------+--------------+------------+\n",
      "only showing top 5 rows\n",
      "\n"
     ]
    }
   ],
   "source": [
    "df.sort(df['actual_price'].desc(),df['name'].asc()).show(5)"
   ]
  },
  {
   "cell_type": "code",
   "execution_count": 11,
   "id": "9f4cd179-808c-4899-865d-7c99d18dd3fb",
   "metadata": {},
   "outputs": [
    {
     "name": "stdout",
     "output_type": "stream",
     "text": [
      "+--------------------+----------------+--------------------+--------------------+--------------------+-------+-------------+--------------+------------+\n",
      "|                name|   main_category|        sub_category|               image|                link|ratings|no_of_ratings|discount_price|actual_price|\n",
      "+--------------------+----------------+--------------------+--------------------+--------------------+-------+-------------+--------------+------------+\n",
      "|ADILEE Men's Slim...|sports & fitness|All Exercise & Fi...|https://m.media-a...|https://www.amazo...|    3.9|          111|          ₹499|        ₹999|\n",
      "+--------------------+----------------+--------------------+--------------------+--------------------+-------+-------------+--------------+------------+\n",
      "\n"
     ]
    }
   ],
   "source": [
    "import pyspark.sql.functions as sf\n",
    "df.filter(sf.col('name').contains('ADILEE')).show(1)"
   ]
  },
  {
   "cell_type": "code",
   "execution_count": 20,
   "id": "b2389340-f992-4534-90fa-f5828e9b2fa4",
   "metadata": {},
   "outputs": [
    {
     "name": "stdout",
     "output_type": "stream",
     "text": [
      "+--------------------+----------------+--------------------+--------------------+--------------------+-------+-------------+--------------+------------+\n",
      "|                name|   main_category|        sub_category|               image|                link|ratings|no_of_ratings|discount_price|actual_price|\n",
      "+--------------------+----------------+--------------------+--------------------+--------------------+-------+-------------+--------------+------------+\n",
      "|Boldfit Resistanc...|sports & fitness|All Exercise & Fi...|https://m.media-a...|https://www.amazo...|    4.0|        3,018|          ₹279|        ₹699|\n",
      "|Strauss Exercise ...|sports & fitness|All Exercise & Fi...|https://m.media-a...|https://www.amazo...|    4.1|        4,403|          ₹489|      ₹1,049|\n",
      "|AUXTER Faux Leath...|sports & fitness|All Exercise & Fi...|https://m.media-a...|https://www.amazo...|    4.3|        8,901|          ₹376|        ₹999|\n",
      "|Kore PVC 10-40 Kg...|sports & fitness|All Exercise & Fi...|https://m.media-a...|https://www.amazo...|    3.6|       33,078|        ₹1,049|      ₹4,090|\n",
      "|MAXWELL®FIT-Yoga ...|sports & fitness|All Exercise & Fi...|https://m.media-a...|https://www.amazo...|    4.0|          165|          ₹320|      ₹1,699|\n",
      "|OJS Skipping Rope...|sports & fitness|All Exercise & Fi...|https://m.media-a...|https://www.amazo...|    3.9|           48|           ₹99|        ₹999|\n",
      "|Kore PVC DM-5kg-C...|sports & fitness|All Exercise & Fi...|https://m.media-a...|https://www.amazo...|    3.8|        5,158|          ₹449|        ₹499|\n",
      "|NIVIA Beast Gym B...|sports & fitness|All Exercise & Fi...|https://m.media-a...|https://www.amazo...|    4.2|        3,755|          ₹528|        ₹799|\n",
      "|Starx Plastic Xpv...|sports & fitness|All Exercise & Fi...|https://m.media-a...|https://www.amazo...|    3.4|          990|           ₹99|        ₹590|\n",
      "|PURSUE FASHION Pr...|sports & fitness|All Exercise & Fi...|https://m.media-a...|https://www.amazo...|    3.9|           66|          ₹289|        ₹699|\n",
      "|SPIRO Black Color...|sports & fitness|All Exercise & Fi...|https://m.media-a...|https://www.amazo...|    4.2|           19|       ₹138.55|        ₹335|\n",
      "|SPOKOFIT Finger G...|sports & fitness|All Exercise & Fi...|https://m.media-a...|https://www.amazo...|    3.5|           50|          ₹129|        ₹699|\n",
      "|SFANE Polyester 2...|sports & fitness|All Exercise & Fi...|https://m.media-a...|https://www.amazo...|    4.3|        3,147|          ₹435|      ₹1,395|\n",
      "|Cockatoo YM100 Yo...|sports & fitness|All Exercise & Fi...|https://m.media-a...|https://www.amazo...|    3.6|           27|          ₹199|        ₹599|\n",
      "|Slovic Pull-Up Ba...|sports & fitness|All Exercise & Fi...|https://m.media-a...|https://www.amazo...|    3.8|          205|          ₹689|      ₹1,499|\n",
      "|IRONFIX® Adjustab...|sports & fitness|All Exercise & Fi...|https://m.media-a...|https://www.amazo...|    4.5|            5|           ₹80|        ₹299|\n",
      "|FitBox Sports 8kg...|sports & fitness|All Exercise & Fi...|https://m.media-a...|https://www.amazo...|    3.6|        1,161|          ₹179|        ₹249|\n",
      "|Boldfit Yoga Belt...|sports & fitness|All Exercise & Fi...|https://m.media-a...|https://www.amazo...|    4.3|          341|          ₹149|        ₹499|\n",
      "|Fashnex Resistanc...|sports & fitness|All Exercise & Fi...|https://m.media-a...|https://www.amazo...|    4.4|        1,176|       ₹671.04|      ₹1,499|\n",
      "|SLOVIC Resistance...|sports & fitness|All Exercise & Fi...|https://m.media-a...|https://www.amazo...|    4.3|        2,645|          ₹297|      ₹3,999|\n",
      "+--------------------+----------------+--------------------+--------------------+--------------------+-------+-------------+--------------+------------+\n",
      "only showing top 20 rows\n",
      "\n"
     ]
    }
   ],
   "source": [
    "df.filter(df['ratings'] >= 3).show()"
   ]
  },
  {
   "cell_type": "code",
   "execution_count": 38,
   "id": "e68a647a-23a1-4a28-a33e-1dca29389195",
   "metadata": {},
   "outputs": [
    {
     "name": "stdout",
     "output_type": "stream",
     "text": [
      "+----+-------------+------------+-----+----+-------+-------------+--------------+------------+\n",
      "|name|main_category|sub_category|image|link|ratings|no_of_ratings|discount_price|actual_price|\n",
      "+----+-------------+------------+-----+----+-------+-------------+--------------+------------+\n",
      "+----+-------------+------------+-----+----+-------+-------------+--------------+------------+\n",
      "\n"
     ]
    }
   ],
   "source": [
    "# Using SQL col() function\n",
    "from pyspark.sql.functions import col\n",
    "df.filter((col(\"no_of_ratings\") <= 400)&(col(\"no_of_ratings\") >= 350)).filter(sf.col('name').contains('ADILEE')).show()\n"
   ]
  },
  {
   "cell_type": "code",
   "execution_count": 39,
   "id": "46862ca8-69ca-4ef8-a2a4-b727cdc988c6",
   "metadata": {},
   "outputs": [
    {
     "name": "stdout",
     "output_type": "stream",
     "text": [
      "+--------------------+----------------+--------------------+--------------------+--------------------+-------+-------------+--------------+------------+\n",
      "|                name|   main_category|        sub_category|               image|                link|ratings|no_of_ratings|discount_price|actual_price|\n",
      "+--------------------+----------------+--------------------+--------------------+--------------------+-------+-------------+--------------+------------+\n",
      "|Boldfit Gym Glove...|sports & fitness|All Exercise & Fi...|https://m.media-a...|https://www.amazo...|    4.6|          365|          ₹399|        ₹799|\n",
      "|Unisex Hexagon Ru...|sports & fitness|All Exercise & Fi...|https://m.media-a...|https://www.amazo...|    4.4|          367|          ₹389|      ₹6,450|\n",
      "|LAFILLETTE 150 lb...|sports & fitness|All Exercise & Fi...|https://m.media-a...|https://www.amazo...|    4.5|          381|          ₹489|      ₹1,199|\n",
      "|Pull up Bar for H...|sports & fitness|All Exercise & Fi...|https://m.media-a...|https://www.amazo...|    4.4|          397|        ₹1,529|      ₹2,399|\n",
      "|Renewa Shoulder E...|sports & fitness|All Exercise & Fi...|https://m.media-a...|https://www.amazo...|    3.9|          385|          ₹249|        ₹250|\n",
      "|USI UNIVERSAL BRP...|sports & fitness|All Exercise & Fi...|https://m.media-a...|https://www.amazo...|    4.3|          395|          ₹475|        ₹649|\n",
      "|Strauss Yoga Sock...|sports & fitness|All Exercise & Fi...|https://m.media-a...|https://www.amazo...|    3.6|          383|          ₹221|        ₹399|\n",
      "|Lifelong LLPVCHGC...|sports & fitness|All Exercise & Fi...|https://m.media-a...|https://www.amazo...|    3.8|          370|          ₹699|        ₹899|\n",
      "|Nivia Blend Plain...|sports & fitness|All Exercise & Fi...|https://m.media-a...|https://www.amazo...|    3.9|          359|          null|        ₹145|\n",
      "|Electomania Nylon...|sports & fitness|All Exercise & Fi...|https://m.media-a...|https://www.amazo...|    3.7|          377|          ₹332|        ₹999|\n",
      "|Sahni Sports Supe...|sports & fitness|All Exercise & Fi...|https://m.media-a...|https://www.amazo...|    4.3|          364|          ₹349|        ₹499|\n",
      "|Inkholic Men's Cr...|sports & fitness|All Exercise & Fi...|https://m.media-a...|https://www.amazo...|    4.0|          393|          ₹449|        ₹899|\n",
      "|JUST RIDER Men's ...|sports & fitness|All Exercise & Fi...|https://m.media-a...|https://www.amazo...|    3.9|          352|          ₹398|        ₹999|\n",
      "|Amazon Brand - Sy...|sports & fitness|All Exercise & Fi...|https://m.media-a...|https://www.amazo...|    4.1|          374|          ₹872|      ₹2,499|\n",
      "|Aduro Sport Aerob...|sports & fitness|All Exercise & Fi...|https://m.media-a...|https://www.amazo...|    4.5|          377|        ₹1,234|      ₹1,999|\n",
      "|CHEROKEE KIDS Boy...|sports & fitness|All Exercise & Fi...|https://m.media-a...|https://www.amazo...|    4.1|          386|          ₹149|        ₹739|\n",
      "|Jockey Men's Trac...|sports & fitness|All Exercise & Fi...|https://m.media-a...|https://www.amazo...|    3.9|          351|        ₹1,515|      ₹1,699|\n",
      "|Adidas Men's Regu...|sports & fitness|All Exercise & Fi...|https://m.media-a...|https://www.amazo...|    3.8|          375|        ₹1,399|      ₹1,999|\n",
      "|U.S. POLO ASSN. M...|sports & fitness|All Exercise & Fi...|https://m.media-a...|https://www.amazo...|    3.9|          376|          ₹629|      ₹1,399|\n",
      "|Selfcare Girls Th...|sports & fitness|All Exercise & Fi...|https://m.media-a...|https://www.amazo...|    4.0|          391|          ₹430|        ₹799|\n",
      "+--------------------+----------------+--------------------+--------------------+--------------------+-------+-------------+--------------+------------+\n",
      "only showing top 20 rows\n",
      "\n"
     ]
    }
   ],
   "source": [
    "df.filter((col(\"no_of_ratings\") <= 400)&(col(\"no_of_ratings\") >= 350)).show()"
   ]
  },
  {
   "cell_type": "code",
   "execution_count": null,
   "id": "fc647c6b-56b6-4ad7-84ab-7d351d2e3605",
   "metadata": {},
   "outputs": [],
   "source": [
    "def getRelatedProducts(data_name,product_name,min_price,max_price,brand,category,available):\n",
    "    from pyspark.sql.functions import col\n",
    "    import pyspark.sql.functions as sf\n",
    "    from pyspark import SparkConf, SparkContext\n",
    "    conf = SparkConf().setAppName('Getting all related data or products')\n",
    "    sc = SparkContext().getOrCreate(conf=conf)\n",
    "    from pyspark.sql import SparkSession\n",
    "    spark = SparkSession.builder.getOrCreate()\n",
    "    df = spark.read.options(header='True',inferSchema='True').csv(data_name)\n",
    "    df.filter((df['List Price'] >= min_price) & (df['List Price'] <= max_price) & (df['Available'] ==available)).filter(sf.col('Category').contains(category)).filter(sf.col('Brand').contains(brand)).filter(sf.col('Product Name').contains(product_name)).show()"
   ]
  },
  {
   "cell_type": "code",
   "execution_count": null,
   "id": "17d5c4e1-33db-44f8-b32b-69c82b0c2e25",
   "metadata": {},
   "outputs": [],
   "source": [
    "getRelatedProducts('Walmart data set.csv','Costena',5,100,'Costena','La Coste','TRUE')"
   ]
  }
 ],
 "metadata": {
  "kernelspec": {
   "display_name": "Python 3 (ipykernel)",
   "language": "python",
   "name": "python3"
  },
  "language_info": {
   "codemirror_mode": {
    "name": "ipython",
    "version": 3
   },
   "file_extension": ".py",
   "mimetype": "text/x-python",
   "name": "python",
   "nbconvert_exporter": "python",
   "pygments_lexer": "ipython3",
   "version": "3.11.4"
  }
 },
 "nbformat": 4,
 "nbformat_minor": 5
}
