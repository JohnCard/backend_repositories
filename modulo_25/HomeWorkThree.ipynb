{
 "cells": [
  {
   "cell_type": "code",
   "execution_count": 1,
   "id": "e24c88cb-a5bb-41e6-8017-e5f1e683a909",
   "metadata": {},
   "outputs": [],
   "source": [
    "def getRelatedProducts(data_name,product_name,min_price,max_price,brand,category,available):\n",
    "    from pyspark.sql.functions import col\n",
    "    import pyspark.sql.functions as sf\n",
    "    from pyspark import SparkConf, SparkContext\n",
    "    conf = SparkConf().setAppName('Getting all related data or products')\n",
    "    sc = SparkContext().getOrCreate(conf=conf)\n",
    "    from pyspark.sql import SparkSession\n",
    "    spark = SparkSession.builder.getOrCreate()\n",
    "    df = spark.read.options(header='True',inferSchema='True').csv(data_name)\n",
    "    df.filter((df['List Price'] >= min_price) & (df['List Price'] <= max_price) & (df['Available'] ==available)).filter(sf.col('Category').contains(category)).filter(sf.col('Brand').contains(brand)).filter(sf.col('Product Name').contains(product_name)).show()"
   ]
  },
  {
   "cell_type": "code",
   "execution_count": 2,
   "id": "df85dca0-3e94-4efd-8b05-8cf3507477d5",
   "metadata": {},
   "outputs": [
    {
     "name": "stdout",
     "output_type": "stream",
     "text": [
      "+--------------------+-------------------+--------------------+--------------------+--------------------+----------+----------+--------------------+-----------+---------+------------+--------------------+-----------+---------+\n",
      "|             Uniq Id|    Crawl Timestamp|         Product Url|        Product Name|         Description|List Price|Sale Price|               Brand|Item Number|     Gtin|Package Size|            Category|Postal Code|Available|\n",
      "+--------------------+-------------------+--------------------+--------------------+--------------------+----------+----------+--------------------+-----------+---------+------------+--------------------+-----------+---------+\n",
      "|bce310cbd32be5604...|2019-12-18 16:02:59|https://www.walma...|OxiClean High Def...| We aim to show y...|      9.97|      9.97|            OxiClean|  555019408| 49901528|        null|Household Essenti...|       null|     TRUE|\n",
      "|ce319303934c447af...|2019-12-19 08:47:35|https://www.walma...|Denver Broncos Th...|                null|     21.99|     21.99|The Northwest Com...|       null| 37565955|        null|Sports & Outdoors...|       null|     TRUE|\n",
      "|daadc2b00166c2216...|2019-12-18 23:07:25|https://www.walma...|The Grecian Soap ...| We aim to show y...|     22.99|     22.99|The Grecian Soap ...|       null|319961731|        null|Personal Care | B...|       null|     TRUE|\n",
      "|54e727ba353237340...|2019-12-18 08:52:08|https://www.walma...|Nivea Creme Glass...| We aim to show y...|      6.42|      6.42|        Colageina 10|  570601150| 50519806|        null|Personal Care | B...|       null|     TRUE|\n",
      "|5ff9f48e9d2cd8845...|2019-12-19 04:56:19|https://www.walma...|San Diego Padres ...|                null|     20.99|     20.99|      Concepts Sport|       null|154494160|        null|Sports & Outdoors...|       null|     TRUE|\n",
      "|8eb819732c4545063...|2019-12-18 16:50:15|https://www.walma...|BODY FANTASIES JA...| We aim to show y...|     30.26|     30.26|BODY FANTASIES JA...|       null|965491482|        null|Personal Care | B...|       null|     TRUE|\n",
      "|a3f388aec2b1c9b37...|2019-12-18 23:09:36|https://www.walma...|Cantu Softening B...| We aim to show y...|     15.60|     15.60|               Cantu|       null| 45022552|        null|Personal Care | B...|       null|     TRUE|\n",
      "|d4df8729b1224fe1d...|2019-12-19 07:54:12|https://www.walma...|Coleman 2-Panel 4...| We aim to show y...|     28.17|     28.17|             Coleman|  570247883|380464700|        null|Sports & Outdoors...|       null|     TRUE|\n",
      "|2c83456745b6554c4...|2019-12-18 19:50:46|https://www.walma...|4 Pack - Clean Lo...| We aim to show y...|      9.85|      9.85|         Clean Logic|       null|584087685|        null|Personal Care | B...|       null|     TRUE|\n",
      "|8b4ff1728d260cf36...|2019-12-18 14:36:51|https://www.walma...|Barack Obama for ...| We aim to show y...|      14.0|      14.0|   Cultural Exchange|       null|851003083|        null|Personal Care | M...|       null|     TRUE|\n",
      "|28701e9b6b6bc461c...|2019-12-18 19:19:07|https://www.walma...|CeraVe Renewing S...| We aim to show y...|     19.97|     17.82|              CeraVe|  551028631| 23601421|        null|Personal Care | B...|       null|     TRUE|\n",
      "|42859b2edada6daa8...|2019-12-18 19:54:57|https://www.walma...|3 Pack - Emergen-...| We aim to show y...|     29.20|     29.20|           Emergen-C|       null|700458111|        null|Health | Vitamins...|       null|     TRUE|\n",
      "|8065cf51c188d5232...|2019-12-18 22:54:25|https://www.walma...|SHEA BUTTER UNREF...| We aim to show y...|      5.49|      5.49| H&B Oils Center Co.|       null|990551532|        null|Personal Care | B...|       null|     TRUE|\n",
      "|691fa7204d3891126...|2019-12-18 23:25:37|https://www.walma...|Flip Top Contact ...| We aim to show y...|      7.99|      7.99|   Eye Care and Cure|       null|195808469|        null|Health | Eye Care...|       null|     TRUE|\n",
      "|0fe853beec7b0caaf...|2019-12-18 19:21:07|https://www.walma...|Cerave SA Lotion ...| We aim to show y...|     18.25|     18.25|              CeraVe|       null|243204612|        null|Personal Care | B...|       null|     TRUE|\n",
      "|dfb95d913150ffc43...|2019-12-19 04:44:48|https://www.walma...|MLB St Louis CARD...| We aim to show y...|     12.66|     12.66|  St Louis CARDINALS|       null|340914472|        null|Clothing | Kids C...|       null|     TRUE|\n",
      "|b3c8486c20a7b5f45...|2019-12-18 16:35:20|https://www.walma...|The Seaweed Bath ...| We aim to show y...|     13.61|     13.61| The Seaweed Bath Co|       null|833957582|        null|Personal Care | B...|       null|     TRUE|\n",
      "|f19292dcd358b8203...|2019-12-18 11:35:39|https://www.walma...|Santa Cruz Organi...| We aim to show y...|     67.85|     67.85|  Santa Cruz Organic|       null|910066909|        null|Food | Beverages ...|       null|     TRUE|\n",
      "|5166beef1b161de2c...|2019-12-18 12:35:01|https://www.walma...|PEZ Candy Trolls ...| We aim to show y...|     18.52|     18.52|           PEZ Candy|  571867361|939489115|        null|Food | Chocolate,...|       null|     TRUE|\n",
      "|905de17bc996cc859...|2019-12-18 17:36:51|https://www.walma...|HERCHR Motion Sen...| We aim to show y...|     18.97|     18.97|              HERCHR|       null|335674075|        null|Household Essenti...|       null|     TRUE|\n",
      "+--------------------+-------------------+--------------------+--------------------+--------------------+----------+----------+--------------------+-----------+---------+------------+--------------------+-----------+---------+\n",
      "only showing top 20 rows\n",
      "\n"
     ]
    }
   ],
   "source": [
    "getRelatedProducts('Walmart data set.csv','C',5,100,'C','L','TRUE')"
   ]
  }
 ],
 "metadata": {
  "kernelspec": {
   "display_name": "Python 3 (ipykernel)",
   "language": "python",
   "name": "python3"
  },
  "language_info": {
   "codemirror_mode": {
    "name": "ipython",
    "version": 3
   },
   "file_extension": ".py",
   "mimetype": "text/x-python",
   "name": "python",
   "nbconvert_exporter": "python",
   "pygments_lexer": "ipython3",
   "version": "3.11.4"
  }
 },
 "nbformat": 4,
 "nbformat_minor": 5
}
