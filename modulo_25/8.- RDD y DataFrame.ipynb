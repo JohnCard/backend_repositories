{
 "cells": [
  {
   "cell_type": "markdown",
   "id": "f7374cc9-e602-4980-85fc-acfffb896d74",
   "metadata": {},
   "source": [
    "# RDD"
   ]
  },
  {
   "cell_type": "markdown",
   "id": "c5334559-5440-42ce-bec0-783d4bd587a7",
   "metadata": {},
   "source": [
    "- Información Estructurada o No estructurada\n",
    "- Cualquier fuente de datos: Base de Datos o un Archivo\n",
    "- Soportada en POO\n",
    "- Naturaleza consistente"
   ]
  },
  {
   "cell_type": "markdown",
   "id": "0669174e-4686-4358-9fad-8761857119e7",
   "metadata": {},
   "source": [
    "# DataFrame\n",
    "\n",
    "- Info. Estructurada "
   ]
  }
 ],
 "metadata": {
  "kernelspec": {
   "display_name": "Python 3 (ipykernel)",
   "language": "python",
   "name": "python3"
  },
  "language_info": {
   "codemirror_mode": {
    "name": "ipython",
    "version": 3
   },
   "file_extension": ".py",
   "mimetype": "text/x-python",
   "name": "python",
   "nbconvert_exporter": "python",
   "pygments_lexer": "ipython3",
   "version": "3.11.4"
  }
 },
 "nbformat": 4,
 "nbformat_minor": 5
}
