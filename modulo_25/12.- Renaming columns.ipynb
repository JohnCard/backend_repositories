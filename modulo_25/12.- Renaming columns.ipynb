{
 "cells": [
  {
   "cell_type": "code",
   "execution_count": 1,
   "id": "fa0a98f2-e790-4d96-b2ad-ac883eeb3e36",
   "metadata": {},
   "outputs": [],
   "source": [
    "from pyspark import SparkConf, SparkContext\n",
    "conf = SparkConf().setAppName('Intro a DataFrames')\n",
    "sc = SparkContext().getOrCreate(conf=conf)\n",
    "\n",
    "from pyspark.sql import SparkSession\n",
    "spark = SparkSession.builder.getOrCreate()\n",
    "\n",
    "df = spark.read.options(header='True',inferSchema='True').csv('people-100k.csv')"
   ]
  },
  {
   "cell_type": "code",
   "execution_count": 2,
   "id": "5a4ad5b9-541f-4d80-bbd5-a84ee5063d03",
   "metadata": {},
   "outputs": [
    {
     "name": "stdout",
     "output_type": "stream",
     "text": [
      "+-----+---------------+--------------+--------------------+--------------------+--------------------+-------+--------------------+-------------------+\n",
      "|Index|Organization Id|          Name|             Website|             Country|         Description|Founded|            Industry|Number of employees|\n",
      "+-----+---------------+--------------+--------------------+--------------------+--------------------+-------+--------------------+-------------------+\n",
      "|    1|8cC6B5992C0309c|   Acevedo LLC|https://www.donov...|Holy See (Vatican...|Multi-channeled b...|   2019|Graphic Design / ...|               7070|\n",
      "|    2|ec094061FeaF7Bc|Walls-Mcdonald|http://arias-will...|           Lithuania|Compatible encomp...|   2005|           Utilities|               8156|\n",
      "|    3|DAcC5dbc58946A7|   Gregory PLC|http://www.lynch-...|             Tokelau|Multi-channeled i...|   2019|    Leisure / Travel|               6121|\n",
      "+-----+---------------+--------------+--------------------+--------------------+--------------------+-------+--------------------+-------------------+\n",
      "only showing top 3 rows\n",
      "\n"
     ]
    }
   ],
   "source": [
    "df.show(3)"
   ]
  },
  {
   "cell_type": "code",
   "execution_count": 5,
   "id": "c7542c35-3db1-4478-98da-b997abcdcfdf",
   "metadata": {},
   "outputs": [],
   "source": [
    "df = df.withColumnRenamed('Name', 'First Name')"
   ]
  },
  {
   "cell_type": "code",
   "execution_count": 6,
   "id": "94ff7d45-1761-4d4d-85b5-68c27224f506",
   "metadata": {},
   "outputs": [
    {
     "name": "stdout",
     "output_type": "stream",
     "text": [
      "+-----+---------------+--------------+--------------------+--------------------+--------------------+-------+--------------------+-------------------+\n",
      "|Index|Organization Id|    First Name|             Website|             Country|         Description|Founded|            Industry|Number of employees|\n",
      "+-----+---------------+--------------+--------------------+--------------------+--------------------+-------+--------------------+-------------------+\n",
      "|    1|8cC6B5992C0309c|   Acevedo LLC|https://www.donov...|Holy See (Vatican...|Multi-channeled b...|   2019|Graphic Design / ...|               7070|\n",
      "|    2|ec094061FeaF7Bc|Walls-Mcdonald|http://arias-will...|           Lithuania|Compatible encomp...|   2005|           Utilities|               8156|\n",
      "|    3|DAcC5dbc58946A7|   Gregory PLC|http://www.lynch-...|             Tokelau|Multi-channeled i...|   2019|    Leisure / Travel|               6121|\n",
      "+-----+---------------+--------------+--------------------+--------------------+--------------------+-------+--------------------+-------------------+\n",
      "only showing top 3 rows\n",
      "\n"
     ]
    }
   ],
   "source": [
    "df.show(3)"
   ]
  },
  {
   "cell_type": "code",
   "execution_count": 7,
   "id": "fdb122f5-4cf5-416f-94a0-080549a332c9",
   "metadata": {},
   "outputs": [
    {
     "name": "stdout",
     "output_type": "stream",
     "text": [
      "+-----+---------------+--------------+--------------------+--------------------+--------------------+-------+--------------------+-------------------+\n",
      "|Index|Organization Id|    First_Name|             Website|             country|         Description|Founded|            Industry|Number of employees|\n",
      "+-----+---------------+--------------+--------------------+--------------------+--------------------+-------+--------------------+-------------------+\n",
      "|    1|8cC6B5992C0309c|   Acevedo LLC|https://www.donov...|Holy See (Vatican...|Multi-channeled b...|   2019|Graphic Design / ...|               7070|\n",
      "|    2|ec094061FeaF7Bc|Walls-Mcdonald|http://arias-will...|           Lithuania|Compatible encomp...|   2005|           Utilities|               8156|\n",
      "|    3|DAcC5dbc58946A7|   Gregory PLC|http://www.lynch-...|             Tokelau|Multi-channeled i...|   2019|    Leisure / Travel|               6121|\n",
      "+-----+---------------+--------------+--------------------+--------------------+--------------------+-------+--------------------+-------------------+\n",
      "only showing top 3 rows\n",
      "\n"
     ]
    }
   ],
   "source": [
    "df = df.withColumnRenamed('First Name', 'First_Name').withColumnRenamed('Country', 'country')\n",
    "df.show(3)"
   ]
  },
  {
   "cell_type": "code",
   "execution_count": 8,
   "id": "8260e2aa-a385-4a35-be02-977dccbb429d",
   "metadata": {},
   "outputs": [
    {
     "name": "stdout",
     "output_type": "stream",
     "text": [
      "+--------------+\n",
      "|       frst_nm|\n",
      "+--------------+\n",
      "|   Acevedo LLC|\n",
      "|Walls-Mcdonald|\n",
      "|   Gregory PLC|\n",
      "+--------------+\n",
      "only showing top 3 rows\n",
      "\n"
     ]
    }
   ],
   "source": [
    "from pyspark.sql.functions import col, lit\n",
    "df.select(col('First_Name').alias('frst_nm')).show(3)"
   ]
  },
  {
   "cell_type": "code",
   "execution_count": null,
   "id": "76204dba-4513-42e6-a455-745eb5009326",
   "metadata": {},
   "outputs": [],
   "source": []
  }
 ],
 "metadata": {
  "kernelspec": {
   "display_name": "Python 3 (ipykernel)",
   "language": "python",
   "name": "python3"
  },
  "language_info": {
   "codemirror_mode": {
    "name": "ipython",
    "version": 3
   },
   "file_extension": ".py",
   "mimetype": "text/x-python",
   "name": "python",
   "nbconvert_exporter": "python",
   "pygments_lexer": "ipython3",
   "version": "3.10.6"
  }
 },
 "nbformat": 4,
 "nbformat_minor": 5
}
