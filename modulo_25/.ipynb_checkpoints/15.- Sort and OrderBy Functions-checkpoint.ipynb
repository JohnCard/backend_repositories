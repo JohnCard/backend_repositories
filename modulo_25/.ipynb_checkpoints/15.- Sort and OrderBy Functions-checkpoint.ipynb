{
 "cells": [
  {
   "cell_type": "code",
   "execution_count": 2,
   "id": "827fffd8-3840-452f-983d-ea94c0774456",
   "metadata": {},
   "outputs": [],
   "source": [
    "from pyspark import SparkConf, SparkContext\n",
    "from pyspark.sql.functions import col,lit\n",
    "conf = SparkConf().setAppName('Intro a DataFrames')\n",
    "sc = SparkContext().getOrCreate(conf=conf)\n",
    "\n",
    "from pyspark.sql import SparkSession\n",
    "spark = SparkSession.builder.getOrCreate()\n",
    "\n",
    "df = spark.read.options(header='True',inferSchema='True').csv('people-100k.csv')"
   ]
  },
  {
   "cell_type": "code",
   "execution_count": 3,
   "id": "483e6afc-a478-40bf-8152-b8a7259a717b",
   "metadata": {},
   "outputs": [
    {
     "name": "stdout",
     "output_type": "stream",
     "text": [
      "+-----+---------------+------------+--------------------+--------------+--------------------+-------+--------------------+-------------------+\n",
      "|Index|Organization Id|        Name|             Website|       Country|         Description|Founded|            Industry|Number of employees|\n",
      "+-----+---------------+------------+--------------------+--------------+--------------------+-------+--------------------+-------------------+\n",
      "|55138|C5ccb1eb016Fede|Abbott Group|https://henson-ro...|     Singapore|Compatible bi-dir...|   1982|         Photography|               4698|\n",
      "|50752|63736554F1abDE9|  Abbott Inc|https://www.steph...|          Mali|Triple-buffered n...|   1985|               Dairy|               6559|\n",
      "|59823|a1F4dC6CA3c76DE|  Abbott Inc|https://rodriguez...|     Hong Kong|Down-sized encomp...|   1996|            Wireless|               5009|\n",
      "|96978|AD4Df8c26F4B8eb|  Abbott LLC|https://www.huang...|      Ethiopia|Realigned recipro...|   2017|    Media Production|               6869|\n",
      "|14661|EbDBBb27D2E335E|  Abbott LLC|http://sims-kirby...|Cayman Islands|Inverse 24/7 task...|   2022|Consumer Electronics|               5001|\n",
      "|37890|74cDdA8deECa8ec|  Abbott LLC|https://www.lynn....|   Puerto Rico|Diverse increment...|   2020|Individual / Fami...|               1853|\n",
      "|35625|6a148e7FABcaF5e|  Abbott LLC|http://www.hooper...|         Egypt|Profound contextu...|   1981|     Broadcast Media|               2836|\n",
      "|83674|A942Ab377B04FBF|  Abbott PLC|http://rios-engli...|         Benin|Team-oriented sca...|   2009|Renewables / Envi...|               2909|\n",
      "|16290|edb29605fA8CE4a|  Abbott PLC|http://gillespie....|     Macedonia|Enhanced holistic...|   2018|Translation / Loc...|               4125|\n",
      "|93249|B48afE94021e91f|  Abbott PLC|https://www.bauer...|       Bahamas|Stand-alone upwar...|   1971|         Restaurants|               5981|\n",
      "+-----+---------------+------------+--------------------+--------------+--------------------+-------+--------------------+-------------------+\n",
      "only showing top 10 rows\n",
      "\n"
     ]
    }
   ],
   "source": [
    "df.sort('Name').show(10)"
   ]
  },
  {
   "cell_type": "code",
   "execution_count": 4,
   "id": "71eb6806-d369-432d-ba62-c11c20dfb22f",
   "metadata": {},
   "outputs": [
    {
     "name": "stdout",
     "output_type": "stream",
     "text": [
      "+-----+---------------+--------------------+--------------------+--------------------+--------------------+-------+--------------------+-------------------+\n",
      "|Index|Organization Id|                Name|             Website|             Country|         Description|Founded|            Industry|Number of employees|\n",
      "+-----+---------------+--------------------+--------------------+--------------------+--------------------+-------+--------------------+-------------------+\n",
      "|    1|8cC6B5992C0309c|         Acevedo LLC|https://www.donov...|Holy See (Vatican...|Multi-channeled b...|   2019|Graphic Design / ...|               7070|\n",
      "|    2|ec094061FeaF7Bc|      Walls-Mcdonald|http://arias-will...|           Lithuania|Compatible encomp...|   2005|           Utilities|               8156|\n",
      "|    3|DAcC5dbc58946A7|         Gregory PLC|http://www.lynch-...|             Tokelau|Multi-channeled i...|   2019|    Leisure / Travel|               6121|\n",
      "|    4|8Dd7beDa37FbeD0|Byrd, Patterson a...|https://www.james...|         Netherlands|Pre-emptive natio...|   1982|           Furniture|               3494|\n",
      "|    5|a3b5c54AEC163e4|    Mcdowell-Hopkins| http://fuentes.com/|             Mayotte|Cloned bifurcated...|   2016|   Online Publishing|                 36|\n",
      "|    6|fDfEBeFDaEb59Af|     Hayden and Sons|https://www.shaw-...|              Belize|Persistent mobile...|   1978|           Insurance|               7010|\n",
      "|    7|752ef90Eae1f7f5|          Castro LLC|http://wilkinson....|             Jamaica|Advanced value-ad...|   2008|Outsourcing / Off...|               2526|\n",
      "|    8|B1D4c5CA34f9992|Barajas, Baird an...|http://www.jordan...|United States of ...|Stand-alone bandw...|   2000|           Wholesale|               4478|\n",
      "|    9|Cfa1a44106faD4B|Lucas, Galloway a...|  http://silva.info/|      Western Sahara|Persevering leadi...|   1990|     Retail Industry|               8223|\n",
      "|   10|C08fcf292AB17DF|Barker, Hubbard a...|http://www.allen....|          Mauritania|Decentralized fau...|   2014|Museums / Institu...|               7716|\n",
      "+-----+---------------+--------------------+--------------------+--------------------+--------------------+-------+--------------------+-------------------+\n",
      "only showing top 10 rows\n",
      "\n"
     ]
    }
   ],
   "source": [
    "df.show(10)"
   ]
  },
  {
   "cell_type": "code",
   "execution_count": 5,
   "id": "9606f324-bc1f-439e-9846-21542ceaaa87",
   "metadata": {},
   "outputs": [
    {
     "name": "stdout",
     "output_type": "stream",
     "text": [
      "+-----+---------------+------------+--------------------+---------+--------------------+-------+----------------+-------------------+\n",
      "|Index|Organization Id|        Name|             Website|  Country|         Description|Founded|        Industry|Number of employees|\n",
      "+-----+---------------+------------+--------------------+---------+--------------------+-------+----------------+-------------------+\n",
      "|55138|C5ccb1eb016Fede|Abbott Group|https://henson-ro...|Singapore|Compatible bi-dir...|   1982|     Photography|               4698|\n",
      "|50752|63736554F1abDE9|  Abbott Inc|https://www.steph...|     Mali|Triple-buffered n...|   1985|           Dairy|               6559|\n",
      "|59823|a1F4dC6CA3c76DE|  Abbott Inc|https://rodriguez...|Hong Kong|Down-sized encomp...|   1996|        Wireless|               5009|\n",
      "|35625|6a148e7FABcaF5e|  Abbott LLC|http://www.hooper...|    Egypt|Profound contextu...|   1981| Broadcast Media|               2836|\n",
      "|96978|AD4Df8c26F4B8eb|  Abbott LLC|https://www.huang...| Ethiopia|Realigned recipro...|   2017|Media Production|               6869|\n",
      "+-----+---------------+------------+--------------------+---------+--------------------+-------+----------------+-------------------+\n",
      "only showing top 5 rows\n",
      "\n"
     ]
    }
   ],
   "source": [
    "df.orderBy('Name','Founded').show(5)"
   ]
  },
  {
   "cell_type": "code",
   "execution_count": 6,
   "id": "79ed0be7-60fa-448a-a190-2575b5d17626",
   "metadata": {},
   "outputs": [
    {
     "name": "stdout",
     "output_type": "stream",
     "text": [
      "+-----+---------------+----------------+--------------------+--------------------+--------------------+-------+--------------------+-------------------+\n",
      "|Index|Organization Id|            Name|             Website|             Country|         Description|Founded|            Industry|Number of employees|\n",
      "+-----+---------------+----------------+--------------------+--------------------+--------------------+-------+--------------------+-------------------+\n",
      "|97667|25CdEE70Bcf2F08|      Pineda Inc|https://www.pace-...|             Namibia|Synergized impact...|   1970|Public Relations ...|                697|\n",
      "|65107|19a0CcDE6cd9C53|  Mcintosh-Combs|   http://colon.net/|           Singapore|Synergistic syste...|   1970|Individual / Fami...|               8172|\n",
      "|  242|fCeddeDb8a2cfba|    Santos-Eaton|https://johnston....|             Denmark|Re-engineered uni...|   1970|Information Techn...|               5655|\n",
      "|65408|2C2aC9C1EeFef33|  Summers-Tucker|https://underwood...|Turks and Caicos ...|Adaptive zero-def...|   1970|    Health / Fitness|               3498|\n",
      "|32749|Af2292DDdCBD651|Mcguire and Sons|http://www.acosta...|Northern Mariana ...|Object-based huma...|   1970|           Utilities|               4670|\n",
      "+-----+---------------+----------------+--------------------+--------------------+--------------------+-------+--------------------+-------------------+\n",
      "only showing top 5 rows\n",
      "\n"
     ]
    }
   ],
   "source": [
    "df.orderBy('Founded').show(5)"
   ]
  },
  {
   "cell_type": "code",
   "execution_count": 7,
   "id": "864c20d2-24cb-4756-b876-0a76f58a0a92",
   "metadata": {},
   "outputs": [
    {
     "name": "stdout",
     "output_type": "stream",
     "text": [
      "+-----+---------------+---------------+--------------------+--------------------+--------------------+-------+-----------------+-------------------+\n",
      "|Index|Organization Id|           Name|             Website|             Country|         Description|Founded|         Industry|Number of employees|\n",
      "+-----+---------------+---------------+--------------------+--------------------+--------------------+-------+-----------------+-------------------+\n",
      "|14594|57aEF24731EA6eb|Abbott and Sons|http://www.hendri...|              Zambia|Innovative impact...|   1970|      Photography|               7665|\n",
      "|40860|A0f894AAbF6cCf6|  Abbott-Brooks|    http://lin.info/|Cocos (Keeling) I...|Sharable mission-...|   1970|  Food Production|               7126|\n",
      "|55747|aA8DDcD435dAAC9| Abbott-Simpson|http://www.sims.com/|            Ethiopia|User-centric huma...|   1970|Military Industry|               9400|\n",
      "|33527|EB8dDE7d1fcFA5A|    Abbott-Yang|https://www.conra...|Slovakia (Slovak ...|Triple-buffered w...|   1970|          Fishery|               7859|\n",
      "|61206|d4C558C72bFB56B|    Acevedo Ltd|https://villanuev...|           Hong Kong|Virtual mobile pr...|   1970|          Farming|               4338|\n",
      "+-----+---------------+---------------+--------------------+--------------------+--------------------+-------+-----------------+-------------------+\n",
      "only showing top 5 rows\n",
      "\n"
     ]
    }
   ],
   "source": [
    "df.orderBy('Founded','Name').show(5)"
   ]
  },
  {
   "cell_type": "code",
   "execution_count": 8,
   "id": "e1e535bc-65c9-46b9-a550-c48bf66a2ec8",
   "metadata": {},
   "outputs": [
    {
     "name": "stdout",
     "output_type": "stream",
     "text": [
      "+-----+---------------+--------------------+--------------------+-------+--------------------+-------+--------------------+-------------------+\n",
      "|Index|Organization Id|                Name|             Website|Country|         Description|Founded|            Industry|Number of employees|\n",
      "+-----+---------------+--------------------+--------------------+-------+--------------------+-------+--------------------+-------------------+\n",
      "|85795|3B6bF5eAD48D776|     Zuniga-Matthews|https://www.morto...|Namibia|Organic neutral m...|   1970|    Health / Fitness|               5576|\n",
      "|41917|8bc9F060ff1caF6|      Zuniga-Ellison|  http://murphy.com/| Jordan|Cross-group bi-di...|   1970|             Library|               4794|\n",
      "|53784|2edE6cdadaefc74|        Zuniga Group| https://lester.com/|Belarus|Fundamental fault...|   1970|           Wholesale|               5067|\n",
      "|76153|8e8B8D4aeFFBCeD|    Zimmerman-Cannon|http://www.banks....|  Qatar|Synergistic disin...|   1970|Individual / Fami...|               7011|\n",
      "| 9492|85dCF0993D39Bb5|Zimmerman, Randal...| https://dawson.com/|Eritrea|Innovative bandwi...|   1970|     Market Research|               4218|\n",
      "+-----+---------------+--------------------+--------------------+-------+--------------------+-------+--------------------+-------------------+\n",
      "only showing top 5 rows\n",
      "\n"
     ]
    }
   ],
   "source": [
    "df.sort(df['Founded'].asc(),df['Name'].desc()).show(5)"
   ]
  },
  {
   "cell_type": "code",
   "execution_count": null,
   "id": "81533a69-d5de-46d1-8292-3cdffaff7163",
   "metadata": {},
   "outputs": [],
   "source": []
  }
 ],
 "metadata": {
  "kernelspec": {
   "display_name": "Python 3 (ipykernel)",
   "language": "python",
   "name": "python3"
  },
  "language_info": {
   "codemirror_mode": {
    "name": "ipython",
    "version": 3
   },
   "file_extension": ".py",
   "mimetype": "text/x-python",
   "name": "python",
   "nbconvert_exporter": "python",
   "pygments_lexer": "ipython3",
   "version": "3.10.6"
  }
 },
 "nbformat": 4,
 "nbformat_minor": 5
}
