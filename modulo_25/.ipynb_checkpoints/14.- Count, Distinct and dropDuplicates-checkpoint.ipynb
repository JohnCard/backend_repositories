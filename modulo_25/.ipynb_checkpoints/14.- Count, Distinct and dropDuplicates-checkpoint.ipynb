{
 "cells": [
  {
   "cell_type": "code",
   "execution_count": 1,
   "id": "963d3446-e4e2-40a7-acbf-f8d5f8af54be",
   "metadata": {},
   "outputs": [],
   "source": [
    "from pyspark import SparkConf, SparkContext\n",
    "from pyspark.sql.functions import col,lit\n",
    "conf = SparkConf().setAppName('Intro a DataFrames')\n",
    "sc = SparkContext().getOrCreate(conf=conf)\n",
    "\n",
    "from pyspark.sql import SparkSession\n",
    "spark = SparkSession.builder.getOrCreate()\n",
    "\n",
    "df = spark.read.options(header='True',inferSchema='True').csv('people-100k.csv')"
   ]
  },
  {
   "cell_type": "code",
   "execution_count": 2,
   "id": "dea6681b-09ac-4a73-979d-396e345915d0",
   "metadata": {},
   "outputs": [
    {
     "name": "stdout",
     "output_type": "stream",
     "text": [
      "+-----+---------------+--------------+--------------------+--------------------+--------------------+-------+--------------------+-------------------+\n",
      "|Index|Organization Id|          Name|             Website|             Country|         Description|Founded|            Industry|Number of employees|\n",
      "+-----+---------------+--------------+--------------------+--------------------+--------------------+-------+--------------------+-------------------+\n",
      "|    1|8cC6B5992C0309c|   Acevedo LLC|https://www.donov...|Holy See (Vatican...|Multi-channeled b...|   2019|Graphic Design / ...|               7070|\n",
      "|    2|ec094061FeaF7Bc|Walls-Mcdonald|http://arias-will...|           Lithuania|Compatible encomp...|   2005|           Utilities|               8156|\n",
      "+-----+---------------+--------------+--------------------+--------------------+--------------------+-------+--------------------+-------------------+\n",
      "only showing top 2 rows\n",
      "\n"
     ]
    }
   ],
   "source": [
    "df.show(2)"
   ]
  },
  {
   "cell_type": "code",
   "execution_count": 3,
   "id": "fcbfd701-98b5-46be-8706-82564d5bb911",
   "metadata": {},
   "outputs": [
    {
     "name": "stdout",
     "output_type": "stream",
     "text": [
      "+-----+---------------+-----------+--------------------+--------------------+--------------------+-------+--------------------+-------------------+\n",
      "|Index|Organization Id|       Name|             Website|             Country|         Description|Founded|            Industry|Number of employees|\n",
      "+-----+---------------+-----------+--------------------+--------------------+--------------------+-------+--------------------+-------------------+\n",
      "|    1|8cC6B5992C0309c|Acevedo LLC|https://www.donov...|Holy See (Vatican...|Multi-channeled b...|   2019|Graphic Design / ...|               7070|\n",
      "|19096|27eB1DfFccd85aF|Acevedo LLC|https://www.terre...|    French Polynesia|Cross-platform we...|   1977|    Medical Practice|               7466|\n",
      "|47109|a4d499646aBeC9A|Acevedo LLC| http://preston.com/|             Andorra|Customer-focused ...|   1985|            Wireless|               5336|\n",
      "|51076|bef1B6Acb8f0cbf|Acevedo LLC|  https://nolan.com/|       Cote d'Ivoire|Phased logistical...|   1979|            Internet|               7369|\n",
      "|54253|6aA3D61B47e56A8|Acevedo LLC|    http://mora.com/|              Jordan|Re-engineered nat...|   2009|            Wireless|               4591|\n",
      "|64866|7637ecdcAEDe350|Acevedo LLC|https://lara-horn...|             Lesotho|Profit-focused re...|   1979|  Financial Services|               9146|\n",
      "|71632|4C5F8eAA43FBa25|Acevedo LLC|https://www.romer...|          Cape Verde|Inverse dynamic p...|   1972|         Photography|               6471|\n",
      "+-----+---------------+-----------+--------------------+--------------------+--------------------+-------+--------------------+-------------------+\n",
      "\n"
     ]
    }
   ],
   "source": [
    "df.filter(df['Name'] == 'Acevedo LLC').show(20)"
   ]
  },
  {
   "cell_type": "code",
   "execution_count": 4,
   "id": "1c67ba38-5524-48aa-8a32-419416cc151b",
   "metadata": {},
   "outputs": [
    {
     "data": {
      "text/plain": [
       "7"
      ]
     },
     "execution_count": 4,
     "metadata": {},
     "output_type": "execute_result"
    }
   ],
   "source": [
    "df.filter(df['Name'] == 'Acevedo LLC').count()"
   ]
  },
  {
   "cell_type": "code",
   "execution_count": 5,
   "id": "e5f9092a-2304-4762-9975-49ab8839acf9",
   "metadata": {},
   "outputs": [
    {
     "data": {
      "text/plain": [
       "72415"
      ]
     },
     "execution_count": 5,
     "metadata": {},
     "output_type": "execute_result"
    }
   ],
   "source": [
    "df.select('Name').distinct().count()"
   ]
  },
  {
   "cell_type": "code",
   "execution_count": 6,
   "id": "5a68b255-5958-4ee5-9b7b-d465e9e6a060",
   "metadata": {},
   "outputs": [
    {
     "name": "stdout",
     "output_type": "stream",
     "text": [
      "+--------------------+\n",
      "|                Name|\n",
      "+--------------------+\n",
      "|Liu, Sanchez and ...|\n",
      "|        Keller-Miles|\n",
      "|       Dorsey-Bolton|\n",
      "|Villegas, Huynh a...|\n",
      "|      Decker-Bradley|\n",
      "+--------------------+\n",
      "only showing top 5 rows\n",
      "\n"
     ]
    }
   ],
   "source": [
    "df.select('Name').distinct().show(5)"
   ]
  },
  {
   "cell_type": "code",
   "execution_count": 7,
   "id": "b3223bc3-55d4-4e43-9170-1b424a24cbf5",
   "metadata": {},
   "outputs": [
    {
     "name": "stdout",
     "output_type": "stream",
     "text": [
      "+-----+---------------+--------------------+--------------------+--------------------+--------------------+-------+--------------------+-------------------+\n",
      "|Index|Organization Id|                Name|             Website|             Country|         Description|Founded|            Industry|Number of employees|\n",
      "+-----+---------------+--------------------+--------------------+--------------------+--------------------+-------+--------------------+-------------------+\n",
      "|35625|6a148e7FABcaF5e|          Abbott LLC|http://www.hooper...|               Egypt|Profound contextu...|   1981|     Broadcast Media|               2836|\n",
      "|11502|9Bd79dd80B73aC2|          Abbott PLC|https://www.brown...|                Niue|Reverse-engineere...|   2017|          Automotive|               8016|\n",
      "|94021|6633668D52aac17|     Abbott and Sons|http://www.curtis...|    Pitcairn Islands|Inverse discrete ...|   1992|   Research Industry|                805|\n",
      "| 7943|b733BbdeA686aAF|Abbott, Gay and M...|   http://evans.net/|         New Zealand|Re-contextualized...|   1988|     Pharmaceuticals|                638|\n",
      "|87632|a4efBdFEA4c5ACc|Abbott, Pacheco a...|http://www.galvan...|           Guatemala|Assimilated upwar...|   1998|           Cosmetics|               4646|\n",
      "|88181|fc3908C7d54D265|Abbott, Robbins a...|   https://koch.com/|            Mongolia|Inverse 24/7 thro...|   1973|     Broadcast Media|               4427|\n",
      "|87465|49e8C257e1D77A1|Abbott, Stout and...|https://www.bryan...|          Martinique|Inverse reciproca...|   2011|Mechanical or Ind...|                396|\n",
      "|14748|DbD9945a0A30Bca|Abbott, Vargas an...|https://www.hayes...|          Azerbaijan|Expanded contextu...|   1992|Entertainment / M...|                 34|\n",
      "| 4977|FA35d789cdfcd20|Abbott, Ward and ...|http://www.welch-...|           Singapore|Diverse secondary...|   2003|Non - Profit / Vo...|               6814|\n",
      "|46318|A3ca6accb9fA290|        Abbott-Cantu|https://www.harri...|          Mauritania|Multi-channeled m...|   2012|Luxury Goods / Je...|               6712|\n",
      "|37716|5D9C8BE0B1Cd0Bc|         Abbott-Kane|http://hahn-schmi...|       New Caledonia|Programmable high...|   2013|        Philanthropy|               5584|\n",
      "|96370|D9f2E5A9eeAAEBb|         Abbott-Page|http://villarreal...|            Maldives|Customer-focused ...|   1989|    Leisure / Travel|               5990|\n",
      "|34469|7ea2a0cfd73c25B|        Abbott-Roman|http://www.lloyd....|       Liechtenstein|Horizontal optimi...|   1980|     Pharmaceuticals|               8275|\n",
      "|11602|bED0e3ad88D0F72|      Abbott-Sanford|   https://mata.net/|          Guadeloupe|Compatible missio...|   1984|Entertainment / M...|               6355|\n",
      "|11672|7C99BF8c12e1e3A|       Abbott-Stokes|http://www.glass-...|                Niue|Ergonomic recipro...|   2005|      Sporting Goods|               1988|\n",
      "|49496|4fad014d1CD58ac|   Abbott-Strickland|http://hull-vaugh...|              Guyana|Balanced systemic...|   1996|  Mental Health Care|                815|\n",
      "|33527|EB8dDE7d1fcFA5A|         Abbott-Yang|https://www.conra...|Slovakia (Slovak ...|Triple-buffered w...|   1970|             Fishery|               7859|\n",
      "|54758|8ba550107eb83Ce|       Acevedo Group|http://velasquez-...|               Samoa|Assimilated needs...|   1996|Newspapers / Jour...|               8763|\n",
      "|11614|C0c3cDA3143A84d|         Acevedo Inc|https://mercado-e...|       Cote d'Ivoire|Ameliorated 24hou...|   2017|           Utilities|               5866|\n",
      "|93473|AB93fbB182dEF80|         Acevedo Inc|https://stanton.org/|              Malawi|Down-sized region...|   2020|Oil / Energy / So...|               9825|\n",
      "+-----+---------------+--------------------+--------------------+--------------------+--------------------+-------+--------------------+-------------------+\n",
      "only showing top 20 rows\n",
      "\n"
     ]
    }
   ],
   "source": [
    "df.dropDuplicates(['Name','Country']).show()"
   ]
  },
  {
   "cell_type": "code",
   "execution_count": null,
   "id": "69dc7ceb-748f-489d-b7ac-b5e72ccd2327",
   "metadata": {},
   "outputs": [],
   "source": []
  }
 ],
 "metadata": {
  "kernelspec": {
   "display_name": "Python 3 (ipykernel)",
   "language": "python",
   "name": "python3"
  },
  "language_info": {
   "codemirror_mode": {
    "name": "ipython",
    "version": 3
   },
   "file_extension": ".py",
   "mimetype": "text/x-python",
   "name": "python",
   "nbconvert_exporter": "python",
   "pygments_lexer": "ipython3",
   "version": "3.10.6"
  }
 },
 "nbformat": 4,
 "nbformat_minor": 5
}
