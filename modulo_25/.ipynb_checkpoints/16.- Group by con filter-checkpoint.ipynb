{
 "cells": [
  {
   "cell_type": "code",
   "execution_count": 1,
   "id": "d538058c-57fa-4481-ade1-e4fc81861d51",
   "metadata": {},
   "outputs": [],
   "source": [
    "from pyspark import SparkConf, SparkContext\n",
    "from pyspark.sql.functions import col,lit\n",
    "conf = SparkConf().setAppName('Intro a DataFrames')\n",
    "sc = SparkContext().getOrCreate(conf=conf)\n",
    "\n",
    "from pyspark.sql import SparkSession\n",
    "spark = SparkSession.builder.getOrCreate()\n",
    "\n",
    "df = spark.read.options(header='True',inferSchema='True').csv('people-100k.csv')"
   ]
  },
  {
   "cell_type": "code",
   "execution_count": 2,
   "id": "cc0a490e-d7e3-46aa-b4c5-7d3016a307be",
   "metadata": {},
   "outputs": [],
   "source": [
    "from pyspark.sql.functions import sum,avg,max,min,mean,count"
   ]
  },
  {
   "cell_type": "code",
   "execution_count": 4,
   "id": "9dd86546-3af3-4c18-84ea-b4d7adaaed1b",
   "metadata": {},
   "outputs": [
    {
     "name": "stdout",
     "output_type": "stream",
     "text": [
      "+--------------------+------------------+\n",
      "|             Country|Number of enginers|\n",
      "+--------------------+------------------+\n",
      "|                Chad|                 4|\n",
      "|            Anguilla|                 7|\n",
      "|            Paraguay|                 7|\n",
      "|Heard Island and ...|                 7|\n",
      "|               Yemen|                 6|\n",
      "+--------------------+------------------+\n",
      "only showing top 5 rows\n",
      "\n"
     ]
    }
   ],
   "source": [
    "df2 = df.filter(df.Founded == '1982').groupBy('Country').agg(count('*').alias('Number of enginers'))\n",
    "df2.show(5)"
   ]
  },
  {
   "cell_type": "code",
   "execution_count": 5,
   "id": "ec1aefb9-919e-4519-97f2-15fe9e2293d8",
   "metadata": {},
   "outputs": [
    {
     "name": "stdout",
     "output_type": "stream",
     "text": [
      "+--------------------+------------------+\n",
      "|             Country|Number of enginers|\n",
      "+--------------------+------------------+\n",
      "|           Singapore|                17|\n",
      "|           Greenland|                16|\n",
      "|South Georgia and...|                15|\n",
      "|              Malawi|                15|\n",
      "|               Congo|                15|\n",
      "+--------------------+------------------+\n",
      "only showing top 5 rows\n",
      "\n"
     ]
    }
   ],
   "source": [
    "df2.filter(col('Number of enginers')>2).sort(df2['Number of enginers'].desc()).show(5)"
   ]
  },
  {
   "cell_type": "code",
   "execution_count": null,
   "id": "7e684ec7-8b18-4dc8-8251-05753c5adc0b",
   "metadata": {},
   "outputs": [],
   "source": []
  }
 ],
 "metadata": {
  "kernelspec": {
   "display_name": "Python 3 (ipykernel)",
   "language": "python",
   "name": "python3"
  },
  "language_info": {
   "codemirror_mode": {
    "name": "ipython",
    "version": 3
   },
   "file_extension": ".py",
   "mimetype": "text/x-python",
   "name": "python",
   "nbconvert_exporter": "python",
   "pygments_lexer": "ipython3",
   "version": "3.10.6"
  }
 },
 "nbformat": 4,
 "nbformat_minor": 5
}
