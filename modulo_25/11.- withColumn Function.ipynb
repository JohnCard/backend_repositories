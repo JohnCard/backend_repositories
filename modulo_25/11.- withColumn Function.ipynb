{
 "cells": [
  {
   "cell_type": "code",
   "execution_count": 1,
   "id": "a096fe01-19cd-40af-9dc5-a037638cf523",
   "metadata": {},
   "outputs": [],
   "source": [
    "from pyspark import SparkConf, SparkContext\n",
    "conf = SparkConf().setAppName('Intro a DataFrames')\n",
    "sc = SparkContext().getOrCreate(conf=conf)\n",
    "\n",
    "from pyspark.sql import SparkSession\n",
    "spark = SparkSession.builder.getOrCreate()\n",
    "\n",
    "df = spark.read.options(header='True',inferSchema='True').csv('people-100k.csv')"
   ]
  },
  {
   "cell_type": "code",
   "execution_count": 2,
   "id": "f5aef1d6-5801-451f-b3c2-a3eddbda127b",
   "metadata": {},
   "outputs": [
    {
     "name": "stdout",
     "output_type": "stream",
     "text": [
      "root\n",
      " |-- Index: integer (nullable = true)\n",
      " |-- Organization Id: string (nullable = true)\n",
      " |-- Name: string (nullable = true)\n",
      " |-- Website: string (nullable = true)\n",
      " |-- Country: string (nullable = true)\n",
      " |-- Description: string (nullable = true)\n",
      " |-- Founded: integer (nullable = true)\n",
      " |-- Industry: string (nullable = true)\n",
      " |-- Number of employees: integer (nullable = true)\n",
      "\n"
     ]
    }
   ],
   "source": [
    "df.printSchema()"
   ]
  },
  {
   "cell_type": "code",
   "execution_count": 4,
   "id": "08835df1-fea2-4545-98aa-c60ee0567c49",
   "metadata": {},
   "outputs": [],
   "source": [
    "from pyspark.sql.functions import col\n",
    "df = df.withColumn('test',col('Index')+30)"
   ]
  },
  {
   "cell_type": "code",
   "execution_count": 5,
   "id": "36d10f55-5c3b-4bbf-8884-e5d0b7203da8",
   "metadata": {},
   "outputs": [
    {
     "name": "stdout",
     "output_type": "stream",
     "text": [
      "+-----+---------------+--------------------+--------------------+--------------------+--------------------+-------+--------------------+-------------------+----+\n",
      "|Index|Organization Id|                Name|             Website|             Country|         Description|Founded|            Industry|Number of employees|test|\n",
      "+-----+---------------+--------------------+--------------------+--------------------+--------------------+-------+--------------------+-------------------+----+\n",
      "|    1|8cC6B5992C0309c|         Acevedo LLC|https://www.donov...|Holy See (Vatican...|Multi-channeled b...|   2019|Graphic Design / ...|               7070|  31|\n",
      "|    2|ec094061FeaF7Bc|      Walls-Mcdonald|http://arias-will...|           Lithuania|Compatible encomp...|   2005|           Utilities|               8156|  32|\n",
      "|    3|DAcC5dbc58946A7|         Gregory PLC|http://www.lynch-...|             Tokelau|Multi-channeled i...|   2019|    Leisure / Travel|               6121|  33|\n",
      "|    4|8Dd7beDa37FbeD0|Byrd, Patterson a...|https://www.james...|         Netherlands|Pre-emptive natio...|   1982|           Furniture|               3494|  34|\n",
      "|    5|a3b5c54AEC163e4|    Mcdowell-Hopkins| http://fuentes.com/|             Mayotte|Cloned bifurcated...|   2016|   Online Publishing|                 36|  35|\n",
      "+-----+---------------+--------------------+--------------------+--------------------+--------------------+-------+--------------------+-------------------+----+\n",
      "only showing top 5 rows\n",
      "\n"
     ]
    }
   ],
   "source": [
    "df.show(5)"
   ]
  },
  {
   "cell_type": "code",
   "execution_count": 6,
   "id": "8e2ed0ab-c800-4be8-a728-eb0c76f772fc",
   "metadata": {},
   "outputs": [],
   "source": [
    "df = df.withColumn('test2',col('Index')-50)"
   ]
  },
  {
   "cell_type": "code",
   "execution_count": 7,
   "id": "f7ccd4a2-79de-415d-8065-8d34ed7b4a67",
   "metadata": {},
   "outputs": [
    {
     "name": "stdout",
     "output_type": "stream",
     "text": [
      "+-----+---------------+--------------------+--------------------+--------------------+--------------------+-------+--------------------+-------------------+----+-----+\n",
      "|Index|Organization Id|                Name|             Website|             Country|         Description|Founded|            Industry|Number of employees|test|test2|\n",
      "+-----+---------------+--------------------+--------------------+--------------------+--------------------+-------+--------------------+-------------------+----+-----+\n",
      "|    1|8cC6B5992C0309c|         Acevedo LLC|https://www.donov...|Holy See (Vatican...|Multi-channeled b...|   2019|Graphic Design / ...|               7070|  31|  -49|\n",
      "|    2|ec094061FeaF7Bc|      Walls-Mcdonald|http://arias-will...|           Lithuania|Compatible encomp...|   2005|           Utilities|               8156|  32|  -48|\n",
      "|    3|DAcC5dbc58946A7|         Gregory PLC|http://www.lynch-...|             Tokelau|Multi-channeled i...|   2019|    Leisure / Travel|               6121|  33|  -47|\n",
      "|    4|8Dd7beDa37FbeD0|Byrd, Patterson a...|https://www.james...|         Netherlands|Pre-emptive natio...|   1982|           Furniture|               3494|  34|  -46|\n",
      "|    5|a3b5c54AEC163e4|    Mcdowell-Hopkins| http://fuentes.com/|             Mayotte|Cloned bifurcated...|   2016|   Online Publishing|                 36|  35|  -45|\n",
      "+-----+---------------+--------------------+--------------------+--------------------+--------------------+-------+--------------------+-------------------+----+-----+\n",
      "only showing top 5 rows\n",
      "\n"
     ]
    }
   ],
   "source": [
    "df.show(5)"
   ]
  },
  {
   "cell_type": "code",
   "execution_count": 8,
   "id": "3e4b34c3-0a12-4cd1-8789-78b161720079",
   "metadata": {},
   "outputs": [],
   "source": [
    "df = df.withColumn('sum',col('test')+col('test2'))"
   ]
  },
  {
   "cell_type": "code",
   "execution_count": 9,
   "id": "2f2ae549-89db-4469-b4ca-6d46993a6fd5",
   "metadata": {},
   "outputs": [
    {
     "name": "stdout",
     "output_type": "stream",
     "text": [
      "+-----+---------------+--------------------+--------------------+--------------------+--------------------+-------+--------------------+-------------------+----+-----+---+\n",
      "|Index|Organization Id|                Name|             Website|             Country|         Description|Founded|            Industry|Number of employees|test|test2|sum|\n",
      "+-----+---------------+--------------------+--------------------+--------------------+--------------------+-------+--------------------+-------------------+----+-----+---+\n",
      "|    1|8cC6B5992C0309c|         Acevedo LLC|https://www.donov...|Holy See (Vatican...|Multi-channeled b...|   2019|Graphic Design / ...|               7070|  31|  -49|-18|\n",
      "|    2|ec094061FeaF7Bc|      Walls-Mcdonald|http://arias-will...|           Lithuania|Compatible encomp...|   2005|           Utilities|               8156|  32|  -48|-16|\n",
      "|    3|DAcC5dbc58946A7|         Gregory PLC|http://www.lynch-...|             Tokelau|Multi-channeled i...|   2019|    Leisure / Travel|               6121|  33|  -47|-14|\n",
      "|    4|8Dd7beDa37FbeD0|Byrd, Patterson a...|https://www.james...|         Netherlands|Pre-emptive natio...|   1982|           Furniture|               3494|  34|  -46|-12|\n",
      "|    5|a3b5c54AEC163e4|    Mcdowell-Hopkins| http://fuentes.com/|             Mayotte|Cloned bifurcated...|   2016|   Online Publishing|                 36|  35|  -45|-10|\n",
      "+-----+---------------+--------------------+--------------------+--------------------+--------------------+-------+--------------------+-------------------+----+-----+---+\n",
      "only showing top 5 rows\n",
      "\n"
     ]
    }
   ],
   "source": [
    "df.show(5)"
   ]
  },
  {
   "cell_type": "code",
   "execution_count": 10,
   "id": "a947fe6e-eac6-430b-b49a-7d1e54bb0900",
   "metadata": {},
   "outputs": [
    {
     "ename": "NameError",
     "evalue": "name 'lit' is not defined",
     "output_type": "error",
     "traceback": [
      "\u001b[0;31m---------------------------------------------------------------------------\u001b[0m",
      "\u001b[0;31mNameError\u001b[0m                                 Traceback (most recent call last)",
      "Cell \u001b[0;32mIn[10], line 1\u001b[0m\n\u001b[0;32m----> 1\u001b[0m df \u001b[38;5;241m=\u001b[39m df\u001b[38;5;241m.\u001b[39mwithColumn(\u001b[38;5;124m'\u001b[39m\u001b[38;5;124mCountry\u001b[39m\u001b[38;5;124m'\u001b[39m,\u001b[43mlit\u001b[49m(\u001b[38;5;124m'\u001b[39m\u001b[38;5;124mMéxico\u001b[39m\u001b[38;5;124m'\u001b[39m))\n",
      "\u001b[0;31mNameError\u001b[0m: name 'lit' is not defined"
     ]
    }
   ],
   "source": [
    "df = df.withColumn('Country',lit('México'))"
   ]
  },
  {
   "cell_type": "code",
   "execution_count": null,
   "id": "2add8953-8777-452a-9411-aa3e3fea3d5e",
   "metadata": {},
   "outputs": [],
   "source": [
    "df = spark.read.options.(header='True',inferSchema='True').csv('people-100.csv')\n",
    "df = df.withColumn('test',col('Index')+30).withColumn('test2',col('Index')-50).withColumn('sum',col('test')+col('test2'))"
   ]
  }
 ],
 "metadata": {
  "kernelspec": {
   "display_name": "Python 3 (ipykernel)",
   "language": "python",
   "name": "python3"
  },
  "language_info": {
   "codemirror_mode": {
    "name": "ipython",
    "version": 3
   },
   "file_extension": ".py",
   "mimetype": "text/x-python",
   "name": "python",
   "nbconvert_exporter": "python",
   "pygments_lexer": "ipython3",
   "version": "3.10.6"
  }
 },
 "nbformat": 4,
 "nbformat_minor": 5
}
