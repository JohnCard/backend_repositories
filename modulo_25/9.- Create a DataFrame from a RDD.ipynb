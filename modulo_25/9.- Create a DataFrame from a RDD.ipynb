{
 "cells": [
  {
   "cell_type": "code",
   "execution_count": 2,
   "id": "cac86748-b0d6-4bf5-afe1-5cfbcc6d30a9",
   "metadata": {},
   "outputs": [],
   "source": [
    "import requests\n",
    "\n",
    "my_csv = requests.get('https://media.githubusercontent.com/media/datablist/sample-csv-files/main/files/organizations/organizations-100000.csv').text\n",
    "file = open('people-100k.csv','w')\n",
    "file.write(my_csv)\n",
    "file.close()"
   ]
  },
  {
   "cell_type": "code",
   "execution_count": 1,
   "id": "05915032-fecc-4057-8ac7-04e7aadb3ee3",
   "metadata": {},
   "outputs": [],
   "source": [
    "from pyspark import SparkConf, SparkContext\n",
    "conf = SparkConf().setAppName('Intro a DataFrames')\n",
    "sc = SparkContext().getOrCreate(conf=conf)\n",
    "\n",
    "from pyspark.sql import SparkSession\n",
    "spark = SparkSession.builder.getOrCreate()"
   ]
  },
  {
   "cell_type": "code",
   "execution_count": 2,
   "id": "26c70c75-b18a-474f-9b73-f4bd1db0e4c7",
   "metadata": {},
   "outputs": [],
   "source": [
    "rdd = sc.textFile('people-100k.csv')\n",
    "headers = rdd.first()\n",
    "rdd = rdd.filter(lambda x: x != headers).map(lambda x: x.split(','))"
   ]
  },
  {
   "cell_type": "code",
   "execution_count": 3,
   "id": "8adeaf97-1bc7-4de7-bae6-88ef57712860",
   "metadata": {},
   "outputs": [],
   "source": [
    "test = rdd.map(lambda row: (int (row[0]), row[1],row[2],row[3],row[4],row[5],row[6],row[7],row[8]))"
   ]
  },
  {
   "cell_type": "code",
   "execution_count": 4,
   "id": "4560402f-7629-415e-bbff-2aa7018c4ade",
   "metadata": {},
   "outputs": [
    {
     "name": "stdout",
     "output_type": "stream",
     "text": [
      "root\n",
      " |-- Index: long (nullable = true)\n",
      " |-- Organization Id: string (nullable = true)\n",
      " |-- Name: string (nullable = true)\n",
      " |-- Website: string (nullable = true)\n",
      " |-- Country: string (nullable = true)\n",
      " |-- Description: string (nullable = true)\n",
      " |-- Founded: string (nullable = true)\n",
      " |-- Industry: string (nullable = true)\n",
      " |-- Number of employees: string (nullable = true)\n",
      "\n"
     ]
    }
   ],
   "source": [
    "columns = headers.split(',')\n",
    "df_from_rdd = test.toDF(columns)\n",
    "df_from_rdd.printSchema()"
   ]
  },
  {
   "cell_type": "code",
   "execution_count": 6,
   "id": "8fa89b16-c5fb-4ce7-a095-fb505325d4bb",
   "metadata": {},
   "outputs": [],
   "source": [
    "from pyspark.sql.types import StructType, StructField, StringType, IntegerType\n",
    "\n",
    "schema = StructType([\n",
    "    StructField('Index',IntegerType(),True),\n",
    "    StructField('User Id',StringType(),True),\n",
    "    StructField('First Name',StringType(),True),\n",
    "    StructField('Last Name',StringType(),True),\n",
    "    StructField('Sex',StringType(),True),\n",
    "    StructField('Email',StringType(),True),\n",
    "    StructField('Phone',StringType(),True),\n",
    "    StructField('Date of Birth',StringType(),True),\n",
    "    StructField('Job Title',StringType(),True),\n",
    "])"
   ]
  },
  {
   "cell_type": "code",
   "execution_count": 7,
   "id": "e3af5ff7-9174-4b79-9167-8c083f62849c",
   "metadata": {},
   "outputs": [],
   "source": [
    "df_with_schema = spark.createDataFrame(test,schema=schema)"
   ]
  },
  {
   "cell_type": "code",
   "execution_count": 8,
   "id": "7177f36b-bd6b-4955-9fb4-74829fd66cf4",
   "metadata": {},
   "outputs": [
    {
     "name": "stdout",
     "output_type": "stream",
     "text": [
      "root\n",
      " |-- Index: integer (nullable = true)\n",
      " |-- User Id: string (nullable = true)\n",
      " |-- First Name: string (nullable = true)\n",
      " |-- Last Name: string (nullable = true)\n",
      " |-- Sex: string (nullable = true)\n",
      " |-- Email: string (nullable = true)\n",
      " |-- Phone: string (nullable = true)\n",
      " |-- Date of Birth: string (nullable = true)\n",
      " |-- Job Title: string (nullable = true)\n",
      "\n"
     ]
    }
   ],
   "source": [
    "df_with_schema.printSchema()"
   ]
  },
  {
   "cell_type": "code",
   "execution_count": 9,
   "id": "1b8fc4c7-4226-4f0b-a8ea-b281ecd97102",
   "metadata": {},
   "outputs": [
    {
     "name": "stdout",
     "output_type": "stream",
     "text": [
      "+-----+---------------+----------------+--------------------+--------------------+--------------------+--------------------+--------------------+---------+\n",
      "|Index|        User Id|      First Name|           Last Name|                 Sex|               Email|               Phone|       Date of Birth|Job Title|\n",
      "+-----+---------------+----------------+--------------------+--------------------+--------------------+--------------------+--------------------+---------+\n",
      "|    1|8cC6B5992C0309c|     Acevedo LLC|https://www.donov...|Holy See (Vatican...|Multi-channeled b...|                2019|Graphic Design / ...|     7070|\n",
      "|    2|ec094061FeaF7Bc|  Walls-Mcdonald|http://arias-will...|           Lithuania|Compatible encomp...|                2005|           Utilities|     8156|\n",
      "|    3|DAcC5dbc58946A7|     Gregory PLC|http://www.lynch-...|             Tokelau|Multi-channeled i...|                2019|    Leisure / Travel|     6121|\n",
      "|    4|8Dd7beDa37FbeD0|           \"Byrd| Patterson and Knox\"|https://www.james...|         Netherlands|Pre-emptive natio...|                1982|Furniture|\n",
      "|    5|a3b5c54AEC163e4|Mcdowell-Hopkins| http://fuentes.com/|             Mayotte|Cloned bifurcated...|                2016|   Online Publishing|       36|\n",
      "+-----+---------------+----------------+--------------------+--------------------+--------------------+--------------------+--------------------+---------+\n",
      "only showing top 5 rows\n",
      "\n"
     ]
    }
   ],
   "source": [
    "df_with_schema.show(5)"
   ]
  },
  {
   "cell_type": "code",
   "execution_count": null,
   "id": "e672d37b-8e7d-46e8-a05a-312f8d982a22",
   "metadata": {},
   "outputs": [],
   "source": []
  }
 ],
 "metadata": {
  "kernelspec": {
   "display_name": "Python 3 (ipykernel)",
   "language": "python",
   "name": "python3"
  },
  "language_info": {
   "codemirror_mode": {
    "name": "ipython",
    "version": 3
   },
   "file_extension": ".py",
   "mimetype": "text/x-python",
   "name": "python",
   "nbconvert_exporter": "python",
   "pygments_lexer": "ipython3",
   "version": "3.10.6"
  }
 },
 "nbformat": 4,
 "nbformat_minor": 5
}
