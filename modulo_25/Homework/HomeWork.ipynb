{
 "cells": [
  {
   "cell_type": "code",
   "execution_count": 1,
   "id": "0781bf23-0041-4b86-a1fe-36ca2caacc70",
   "metadata": {},
   "outputs": [],
   "source": [
    "def getRelatedProducts(data_name,product_name,min_price,max_price,brand,category,available):\n",
    "    from pyspark.sql.functions import col\n",
    "    import pyspark.sql.functions as sf\n",
    "    from pyspark import SparkConf, SparkContext\n",
    "    conf = SparkConf().setAppName('Getting all related data or products')\n",
    "    sc = SparkContext().getOrCreate(conf=conf)\n",
    "    from pyspark.sql import SparkSession\n",
    "    spark = SparkSession.builder.getOrCreate()\n",
    "    df = spark.read.options(header='True',inferSchema='True').csv(data_name)\n",
    "    df.filter((df['List Price'] >= min_price) & (df['List Price'] <= max_price) & (df['Available'] ==available)).filter(sf.col('Category').contains(category)).filter(sf.col('Brand').contains(brand)).filter(sf.col('Product Name').contains(product_name)).show()"
   ]
  },
  {
   "cell_type": "code",
   "execution_count": 2,
   "id": "18773e44-f254-43fa-933b-28a682cdb33e",
   "metadata": {},
   "outputs": [
    {
     "name": "stdout",
     "output_type": "stream",
     "text": [
      "+--------------------+-------------------+--------------------+--------------------+--------------------+----------+----------+------+-----------+---------+------------+--------------------+-----------+---------+\n",
      "|             Uniq Id|    Crawl Timestamp|         Product Url|        Product Name|         Description|List Price|Sale Price| Brand|Item Number|     Gtin|Package Size|            Category|Postal Code|Available|\n",
      "+--------------------+-------------------+--------------------+--------------------+--------------------+----------+----------+------+-----------+---------+------------+--------------------+-----------+---------+\n",
      "|3a4ff306dcc8a6e2b...|2019-12-18 17:21:48|https://www.walma...|Equate Triamcinol...| We aim to show y...|     10.48|     10.48|Equate|  569045548|632775553|        null|Health | Equate |...|       null|     TRUE|\n",
      "|a7cfcb65a0c466a5f...|2019-12-18 17:17:14|https://www.walma...|(3 Pack) Equate N...| We aim to show y...|      9.96|      9.96|Equate|       null|484630642|        null|Health | Equate |...|       null|     TRUE|\n",
      "+--------------------+-------------------+--------------------+--------------------+--------------------+----------+----------+------+-----------+---------+------------+--------------------+-----------+---------+\n",
      "\n"
     ]
    }
   ],
   "source": [
    "getRelatedProducts('Walmart data set.csv','Nasal',5,100,'Equate','Health','TRUE')"
   ]
  },
  {
   "cell_type": "code",
   "execution_count": null,
   "id": "d55109d4-cb00-4247-93a1-a460a05b7d7d",
   "metadata": {},
   "outputs": [],
   "source": []
  }
 ],
 "metadata": {
  "kernelspec": {
   "display_name": "Python 3 (ipykernel)",
   "language": "python",
   "name": "python3"
  },
  "language_info": {
   "codemirror_mode": {
    "name": "ipython",
    "version": 3
   },
   "file_extension": ".py",
   "mimetype": "text/x-python",
   "name": "python",
   "nbconvert_exporter": "python",
   "pygments_lexer": "ipython3",
   "version": "3.11.4"
  }
 },
 "nbformat": 4,
 "nbformat_minor": 5
}
