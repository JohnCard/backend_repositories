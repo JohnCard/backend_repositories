{
 "cells": [
  {
   "cell_type": "markdown",
   "id": "0452eaf8",
   "metadata": {},
   "source": [
    "# Gráficas con Matplotlib"
   ]
  },
  {
   "cell_type": "markdown",
   "id": "4ce456c2",
   "metadata": {},
   "source": [
    "## Graph lines creations (matplotlib)"
   ]
  },
  {
   "cell_type": "code",
   "execution_count": null,
   "id": "4675907a",
   "metadata": {},
   "outputs": [],
   "source": [
    "import mathplotlib.pyplot as plt \n"
   ]
  }
 ],
 "metadata": {
  "kernelspec": {
   "display_name": "Python 3 (ipykernel)",
   "language": "python",
   "name": "python3"
  },
  "language_info": {
   "codemirror_mode": {
    "name": "ipython",
    "version": 3
   },
   "file_extension": ".py",
   "mimetype": "text/x-python",
   "name": "python",
   "nbconvert_exporter": "python",
   "pygments_lexer": "ipython3",
   "version": "3.10.6"
  }
 },
 "nbformat": 4,
 "nbformat_minor": 5
}
