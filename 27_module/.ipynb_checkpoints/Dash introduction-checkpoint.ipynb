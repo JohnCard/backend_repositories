{
 "cells": [
  {
   "cell_type": "markdown",
   "id": "9f3adb60",
   "metadata": {},
   "source": [
    "# Dash Introduction (new topyc)"
   ]
  },
  {
   "cell_type": "markdown",
   "id": "11c4a6ab",
   "metadata": {},
   "source": [
    "Dash\n",
    "- Library to create interactive dashboards \n",
    "- Based in flask framework\n",
    "- Generates a new app\n",
    "- Elements\n",
    "    - Layout - appareance\n",
    "    - interactivity - behavior\n",
    "- Libraries\n",
    "    - dash_html_components - html elements\n",
    "    - dash_core_components - interactive components\n",
    "    \n",
    "Basic html components\n",
    "- html div - section or block\n",
    "- h1/h2/h3 - titles\n",
    "- css - styles\n",
    "\n",
    "core components in dash\n",
    "- Dropdowns\n",
    "- Radio items\n",
    "- Graphs\n",
    "- Sliders\n",
    "\n",
    "About core dash components documentation: \n",
    "https://dash.plotly.com/dash-core-components"
   ]
  },
  {
   "cell_type": "markdown",
   "id": "91d21a5c",
   "metadata": {},
   "source": [
    "## Dash facility:"
   ]
  },
  {
   "cell_type": "code",
   "execution_count": 1,
   "id": "afbfe822",
   "metadata": {},
   "outputs": [
    {
     "name": "stdout",
     "output_type": "stream",
     "text": [
      "Requirement already satisfied: dash in c:\\users\\hp\\appdata\\local\\programs\\python\\python311\\lib\\site-packages (2.12.1)\n",
      "Requirement already satisfied: Flask<2.3.0,>=1.0.4 in c:\\users\\hp\\appdata\\local\\programs\\python\\python311\\lib\\site-packages (from dash) (1.1.1)\n",
      "Requirement already satisfied: Werkzeug<2.3.0 in c:\\users\\hp\\appdata\\local\\programs\\python\\python311\\lib\\site-packages (from dash) (2.2.3)\n",
      "Requirement already satisfied: plotly>=5.0.0 in c:\\users\\hp\\appdata\\local\\programs\\python\\python311\\lib\\site-packages (from dash) (5.16.1)\n",
      "Requirement already satisfied: dash-html-components==2.0.0 in c:\\users\\hp\\appdata\\local\\programs\\python\\python311\\lib\\site-packages (from dash) (2.0.0)\n",
      "Requirement already satisfied: dash-core-components==2.0.0 in c:\\users\\hp\\appdata\\local\\programs\\python\\python311\\lib\\site-packages (from dash) (2.0.0)\n",
      "Requirement already satisfied: dash-table==5.0.0 in c:\\users\\hp\\appdata\\local\\programs\\python\\python311\\lib\\site-packages (from dash) (5.0.0)\n",
      "Requirement already satisfied: typing-extensions>=4.1.1 in c:\\users\\hp\\appdata\\local\\programs\\python\\python311\\lib\\site-packages (from dash) (4.7.1)\n",
      "Requirement already satisfied: requests in c:\\users\\hp\\appdata\\local\\programs\\python\\python311\\lib\\site-packages (from dash) (2.22.0)\n",
      "Requirement already satisfied: retrying in c:\\users\\hp\\appdata\\local\\programs\\python\\python311\\lib\\site-packages (from dash) (1.3.4)\n",
      "Requirement already satisfied: ansi2html in c:\\users\\hp\\appdata\\local\\programs\\python\\python311\\lib\\site-packages (from dash) (1.8.0)\n",
      "Requirement already satisfied: nest-asyncio in c:\\users\\hp\\appdata\\local\\programs\\python\\python311\\lib\\site-packages (from dash) (1.5.7)\n",
      "Requirement already satisfied: setuptools in c:\\users\\hp\\appdata\\local\\programs\\python\\python311\\lib\\site-packages (from dash) (65.5.0)\n",
      "Requirement already satisfied: Jinja2>=2.10.1 in c:\\users\\hp\\appdata\\local\\programs\\python\\python311\\lib\\site-packages (from Flask<2.3.0,>=1.0.4->dash) (3.1.2)\n",
      "Requirement already satisfied: itsdangerous>=0.24 in c:\\users\\hp\\appdata\\local\\programs\\python\\python311\\lib\\site-packages (from Flask<2.3.0,>=1.0.4->dash) (2.1.2)\n",
      "Requirement already satisfied: click>=5.1 in c:\\users\\hp\\appdata\\local\\programs\\python\\python311\\lib\\site-packages (from Flask<2.3.0,>=1.0.4->dash) (8.1.6)\n",
      "Requirement already satisfied: tenacity>=6.2.0 in c:\\users\\hp\\appdata\\local\\programs\\python\\python311\\lib\\site-packages (from plotly>=5.0.0->dash) (8.2.3)\n",
      "Requirement already satisfied: packaging in c:\\users\\hp\\appdata\\local\\programs\\python\\python311\\lib\\site-packages (from plotly>=5.0.0->dash) (23.1)\n",
      "Requirement already satisfied: MarkupSafe>=2.1.1 in c:\\users\\hp\\appdata\\local\\programs\\python\\python311\\lib\\site-packages (from Werkzeug<2.3.0->dash) (2.1.3)\n",
      "Requirement already satisfied: chardet<3.1.0,>=3.0.2 in c:\\users\\hp\\appdata\\local\\programs\\python\\python311\\lib\\site-packages (from requests->dash) (3.0.4)\n",
      "Requirement already satisfied: idna<2.9,>=2.5 in c:\\users\\hp\\appdata\\local\\programs\\python\\python311\\lib\\site-packages (from requests->dash) (2.8)\n",
      "Requirement already satisfied: urllib3!=1.25.0,!=1.25.1,<1.26,>=1.21.1 in c:\\users\\hp\\appdata\\local\\programs\\python\\python311\\lib\\site-packages (from requests->dash) (1.25.11)\n",
      "Requirement already satisfied: certifi>=2017.4.17 in c:\\users\\hp\\appdata\\local\\programs\\python\\python311\\lib\\site-packages (from requests->dash) (2023.5.7)\n",
      "Requirement already satisfied: six>=1.7.0 in c:\\users\\hp\\appdata\\local\\programs\\python\\python311\\lib\\site-packages (from retrying->dash) (1.16.0)\n",
      "Requirement already satisfied: colorama in c:\\users\\hp\\appdata\\local\\programs\\python\\python311\\lib\\site-packages (from click>=5.1->Flask<2.3.0,>=1.0.4->dash) (0.4.6)\n"
     ]
    }
   ],
   "source": [
    "!pip install dash"
   ]
  },
  {
   "cell_type": "code",
   "execution_count": 2,
   "id": "2e5df688",
   "metadata": {},
   "outputs": [
    {
     "ename": "ModuleNotFoundError",
     "evalue": "No module named 'dash'",
     "output_type": "error",
     "traceback": [
      "\u001b[1;31m---------------------------------------------------------------------------\u001b[0m",
      "\u001b[1;31mModuleNotFoundError\u001b[0m                       Traceback (most recent call last)",
      "Cell \u001b[1;32mIn [2], line 2\u001b[0m\n\u001b[0;32m      1\u001b[0m \u001b[38;5;66;03m# Lireries import\u001b[39;00m\n\u001b[1;32m----> 2\u001b[0m \u001b[38;5;28;01mimport\u001b[39;00m \u001b[38;5;21;01mdash\u001b[39;00m\n\u001b[0;32m      3\u001b[0m \u001b[38;5;28;01mfrom\u001b[39;00m \u001b[38;5;21;01mdash\u001b[39;00m \u001b[38;5;28;01mimport\u001b[39;00m dcc\n\u001b[0;32m      4\u001b[0m \u001b[38;5;28;01mfrom\u001b[39;00m \u001b[38;5;21;01mdash\u001b[39;00m \u001b[38;5;28;01mimport\u001b[39;00m html\n",
      "\u001b[1;31mModuleNotFoundError\u001b[0m: No module named 'dash'"
     ]
    }
   ],
   "source": [
    "# Lireries import\n",
    "import dash\n",
    "from dash import dcc\n",
    "from dash import html\n",
    "# app dash creation\n",
    "app = dash.Dash()\n",
    "\n",
    "# dictionary definition for all colors used in app for homogeneity\n",
    "colors = {\n",
    "    'background': '#111111',\n",
    "    'text': '#7FDBFF'\n",
    "}\n",
    "\n",
    "# app layout definition from html and core components\n",
    "app.layout = html.Div(children=[\n",
    "    html.H1(children='Dashboard using Dash',\n",
    "           style={ #h1 component style definition\n",
    "        'textAlign':'center',\n",
    "        'color': colors['text']\n",
    "    }),\n",
    "    html.Div(children='Dash: Framework for interactive visualizations with python',\n",
    "            style={# intern Div component style definition\n",
    "            'textAlign':'center',\n",
    "            'color':colors['text']}\n",
    "            ),\n",
    "    dcc.Graph(\n",
    "        id='example',\n",
    "        figure={\n",
    "            'data':[\n",
    "              {'x':[1,2,3],'y':[4,8,2],'type':'bar','name':'Zapopan'},\n",
    "              {'x':[1,2,3],'y':[3,4,5],'type':'bar','name':'Gdl'}  \n",
    "            ],\n",
    "            'layout':{\n",
    "                'title':'Zapopan comparative - Guadalajara',\n",
    "                'plot_bgcolor': colors['background'],\n",
    "                'paper_bgcolor': colors['background'],\n",
    "                'font': {'color':colors['text']}\n",
    "            }\n",
    "    })\n",
    "],\n",
    "      style={'backgroundColor':colors['background']}# extern div component style definition (global)\n",
    ")\n",
    "# opening server sentence when executing the script\n",
    "if __name__ == '__main__':\n",
    "    app.run_server(port=8000)"
   ]
  },
  {
   "cell_type": "code",
   "execution_count": null,
   "id": "a4bc04f4",
   "metadata": {},
   "outputs": [],
   "source": []
  }
 ],
 "metadata": {
  "kernelspec": {
   "display_name": "Python 3 (ipykernel)",
   "language": "python",
   "name": "python3"
  },
  "language_info": {
   "codemirror_mode": {
    "name": "ipython",
    "version": 3
   },
   "file_extension": ".py",
   "mimetype": "text/x-python",
   "name": "python",
   "nbconvert_exporter": "python",
   "pygments_lexer": "ipython3",
   "version": "3.10.6"
  }
 },
 "nbformat": 4,
 "nbformat_minor": 5
}
