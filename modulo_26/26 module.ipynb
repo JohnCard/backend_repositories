{
 "cells": [
  {
   "cell_type": "markdown",
   "id": "ebf69d20",
   "metadata": {},
   "source": [
    "# Intro"
   ]
  },
  {
   "cell_type": "markdown",
   "id": "0ab4ca58",
   "metadata": {},
   "source": [
    "- RSA \n",
    "- SHA-256"
   ]
  },
  {
   "cell_type": "markdown",
   "id": "1536ded8",
   "metadata": {},
   "source": [
    "### RSA\n",
    "- 1977 an algorithm to transmit information by a safe way, Ron Rivest, Adi Shamir and Leonard Adleman\n",
    "- Trapdoor Function\n",
    "- Factorization of prime numbers \n",
    "\n",
    "![trapdoor_function](https://upload.wikipedia.org/wikipedia/commons/thumb/8/8f/Trapdoor_permutation.svg/1920px-Trapdoor_permutation.svg.png)}"
   ]
  },
  {
   "cell_type": "markdown",
   "id": "b8d82f8a",
   "metadata": {},
   "source": [
    "### SHA-256 \n",
    "- Algorithm to ensure a bash\n",
    "- 256 bits\n",
    "- Based on basic bool operations\n",
    "    - AND\n",
    "    - OR\n",
    "    - XOR\n",
    "- Irreversible"
   ]
  },
  {
   "cell_type": "markdown",
   "id": "7219b4e0",
   "metadata": {},
   "source": [
    "### Crypto\n",
    "- Private Key\n",
    "- Public Key\n",
    "- Encrypt with public key - Encryption\n",
    "- Encrypt with private key - signature"
   ]
  },
  {
   "cell_type": "markdown",
   "id": "1b3c2513",
   "metadata": {},
   "source": [
    "### Proyects\n",
    "- brave.com/es/\n",
    "- steemit.com\n",
    "- wabi.io\n",
    "- vechain.org\n",
    "- oceanprotocol.com\n",
    "- fairfood.org/en"
   ]
  },
  {
   "cell_type": "markdown",
   "id": "e2fc1561",
   "metadata": {},
   "source": [
    "# Transactions\n",
    "- The most basic unit yo build a block\n",
    "- Transactions -> block -> blocks chain\n",
    "- Change the state of blocks chain\n",
    "- Properties (Sender (emisor), receiver, amount of tkens, timestamp, signature)\n",
    "- Diferent kind of transactions\n",
    "- Signatures"
   ]
  },
  {
   "cell_type": "markdown",
   "id": "bc252b88",
   "metadata": {},
   "source": [
    "### Transfer\n",
    "Example:\n",
    "- Carlos has 10 tokens, Gaby has 5 tokens\n",
    "- Carlos makes a transference of 2 tokens for gaby\n",
    "- Carlos is left with 8 tokens and gaby was left with 7 tokens"
   ]
  },
  {
   "cell_type": "markdown",
   "id": "088a1a20",
   "metadata": {},
   "source": [
    "### Exchange\n",
    "- Get tokens giving fiat"
   ]
  },
  {
   "cell_type": "markdown",
   "id": "5c8d758c",
   "metadata": {},
   "source": [
    "### Stake (apostar o invertir)\n",
    "- Proof of stake\n",
    "- How to stake/block some of your tokens"
   ]
  },
  {
   "cell_type": "markdown",
   "id": "9f39be1e",
   "metadata": {},
   "source": [
    "### Transactions - Practice\n",
    "- Implemate the transaction class\n",
    "- Sign transactions using a wallet \n",
    "- Detect  invalid transactions\n",
    "- Give a consistent representation for transactions\n",
    "- Prepare the transactions in a Pool"
   ]
  },
  {
   "cell_type": "code",
   "execution_count": 1,
   "id": "7366a8d2",
   "metadata": {
    "scrolled": false
   },
   "outputs": [
    {
     "name": "stdout",
     "output_type": "stream",
     "text": [
      "Requirement already satisfied: jsonpickle==1.4.1 in c:\\users\\hp\\appdata\\local\\programs\\python\\python311\\lib\\site-packages (1.4.1)\n",
      "Requirement already satisfied: importlib-metadata in c:\\users\\hp\\appdata\\local\\programs\\python\\python311\\lib\\site-packages (from jsonpickle==1.4.1) (6.8.0)\n",
      "Requirement already satisfied: zipp>=0.5 in c:\\users\\hp\\appdata\\local\\programs\\python\\python311\\lib\\site-packages (from importlib-metadata->jsonpickle==1.4.1) (3.16.2)\n",
      "Requirement already satisfied: json5==0.8.4 in c:\\users\\hp\\appdata\\local\\programs\\python\\python311\\lib\\site-packages (0.8.4)\n",
      "Requirement already satisfied: Flask==1.1.1 in c:\\users\\hp\\appdata\\local\\programs\\python\\python311\\lib\\site-packages (1.1.1)\n",
      "Requirement already satisfied: Werkzeug>=0.15 in c:\\users\\hp\\appdata\\local\\programs\\python\\python311\\lib\\site-packages (from Flask==1.1.1) (2.2.3)\n",
      "Requirement already satisfied: Jinja2>=2.10.1 in c:\\users\\hp\\appdata\\local\\programs\\python\\python311\\lib\\site-packages (from Flask==1.1.1) (3.1.2)\n",
      "Requirement already satisfied: itsdangerous>=0.24 in c:\\users\\hp\\appdata\\local\\programs\\python\\python311\\lib\\site-packages (from Flask==1.1.1) (2.1.2)\n",
      "Requirement already satisfied: click>=5.1 in c:\\users\\hp\\appdata\\local\\programs\\python\\python311\\lib\\site-packages (from Flask==1.1.1) (8.1.6)\n",
      "Requirement already satisfied: colorama in c:\\users\\hp\\appdata\\local\\programs\\python\\python311\\lib\\site-packages (from click>=5.1->Flask==1.1.1) (0.4.6)\n",
      "Requirement already satisfied: MarkupSafe>=2.0 in c:\\users\\hp\\appdata\\local\\programs\\python\\python311\\lib\\site-packages (from Jinja2>=2.10.1->Flask==1.1.1) (2.1.3)\n",
      "Requirement already satisfied: Flask-Classful==0.14.2 in c:\\users\\hp\\appdata\\local\\programs\\python\\python311\\lib\\site-packages (0.14.2)\n",
      "Requirement already satisfied: Flask!=0.12.3,>=0.11 in c:\\users\\hp\\appdata\\local\\programs\\python\\python311\\lib\\site-packages (from Flask-Classful==0.14.2) (1.1.1)\n",
      "Requirement already satisfied: Werkzeug>=0.15 in c:\\users\\hp\\appdata\\local\\programs\\python\\python311\\lib\\site-packages (from Flask!=0.12.3,>=0.11->Flask-Classful==0.14.2) (2.2.3)\n",
      "Requirement already satisfied: Jinja2>=2.10.1 in c:\\users\\hp\\appdata\\local\\programs\\python\\python311\\lib\\site-packages (from Flask!=0.12.3,>=0.11->Flask-Classful==0.14.2) (3.1.2)\n",
      "Requirement already satisfied: itsdangerous>=0.24 in c:\\users\\hp\\appdata\\local\\programs\\python\\python311\\lib\\site-packages (from Flask!=0.12.3,>=0.11->Flask-Classful==0.14.2) (2.1.2)\n",
      "Requirement already satisfied: click>=5.1 in c:\\users\\hp\\appdata\\local\\programs\\python\\python311\\lib\\site-packages (from Flask!=0.12.3,>=0.11->Flask-Classful==0.14.2) (8.1.6)\n",
      "Requirement already satisfied: colorama in c:\\users\\hp\\appdata\\local\\programs\\python\\python311\\lib\\site-packages (from click>=5.1->Flask!=0.12.3,>=0.11->Flask-Classful==0.14.2) (0.4.6)\n",
      "Requirement already satisfied: MarkupSafe>=2.0 in c:\\users\\hp\\appdata\\local\\programs\\python\\python311\\lib\\site-packages (from Jinja2>=2.10.1->Flask!=0.12.3,>=0.11->Flask-Classful==0.14.2) (2.1.3)\n"
     ]
    },
    {
     "name": "stderr",
     "output_type": "stream",
     "text": [
      "ERROR: Could not find a version that satisfies the requirement p2pntework==0.0.3 (from versions: none)\n",
      "ERROR: No matching distribution found for p2pntework==0.0.3\n"
     ]
    },
    {
     "name": "stdout",
     "output_type": "stream",
     "text": [
      "Requirement already satisfied: requests==2.22.0 in c:\\users\\hp\\appdata\\local\\programs\\python\\python311\\lib\\site-packages (2.22.0)\n",
      "Requirement already satisfied: chardet<3.1.0,>=3.0.2 in c:\\users\\hp\\appdata\\local\\programs\\python\\python311\\lib\\site-packages (from requests==2.22.0) (3.0.4)\n",
      "Requirement already satisfied: idna<2.9,>=2.5 in c:\\users\\hp\\appdata\\local\\programs\\python\\python311\\lib\\site-packages (from requests==2.22.0) (2.8)\n",
      "Requirement already satisfied: urllib3!=1.25.0,!=1.25.1,<1.26,>=1.21.1 in c:\\users\\hp\\appdata\\local\\programs\\python\\python311\\lib\\site-packages (from requests==2.22.0) (1.25.11)\n",
      "Requirement already satisfied: certifi>=2017.4.17 in c:\\users\\hp\\appdata\\local\\programs\\python\\python311\\lib\\site-packages (from requests==2.22.0) (2023.5.7)\n",
      "Requirement already satisfied: selenium in c:\\users\\hp\\appdata\\local\\programs\\python\\python311\\lib\\site-packages (4.10.0)\n",
      "Collecting urllib3[socks]<3,>=1.26 (from selenium)\n",
      "  Obtaining dependency information for urllib3[socks]<3,>=1.26 from https://files.pythonhosted.org/packages/9b/81/62fd61001fa4b9d0df6e31d47ff49cfa9de4af03adecf339c7bc30656b37/urllib3-2.0.4-py3-none-any.whl.metadata\n",
      "  Downloading urllib3-2.0.4-py3-none-any.whl.metadata (6.6 kB)\n",
      "Requirement already satisfied: trio~=0.17 in c:\\users\\hp\\appdata\\local\\programs\\python\\python311\\lib\\site-packages (from selenium) (0.22.0)\n",
      "Requirement already satisfied: trio-websocket~=0.9 in c:\\users\\hp\\appdata\\local\\programs\\python\\python311\\lib\\site-packages (from selenium) (0.10.3)\n",
      "Requirement already satisfied: certifi>=2021.10.8 in c:\\users\\hp\\appdata\\local\\programs\\python\\python311\\lib\\site-packages (from selenium) (2023.5.7)\n",
      "Requirement already satisfied: attrs>=19.2.0 in c:\\users\\hp\\appdata\\local\\programs\\python\\python311\\lib\\site-packages (from trio~=0.17->selenium) (23.1.0)\n",
      "Requirement already satisfied: sortedcontainers in c:\\users\\hp\\appdata\\local\\programs\\python\\python311\\lib\\site-packages (from trio~=0.17->selenium) (2.4.0)\n",
      "Requirement already satisfied: async-generator>=1.9 in c:\\users\\hp\\appdata\\local\\programs\\python\\python311\\lib\\site-packages (from trio~=0.17->selenium) (1.10)\n",
      "Requirement already satisfied: idna in c:\\users\\hp\\appdata\\local\\programs\\python\\python311\\lib\\site-packages (from trio~=0.17->selenium) (2.8)\n",
      "Requirement already satisfied: outcome in c:\\users\\hp\\appdata\\local\\programs\\python\\python311\\lib\\site-packages (from trio~=0.17->selenium) (1.2.0)\n",
      "Requirement already satisfied: sniffio in c:\\users\\hp\\appdata\\local\\programs\\python\\python311\\lib\\site-packages (from trio~=0.17->selenium) (1.3.0)\n",
      "Requirement already satisfied: cffi>=1.14 in c:\\users\\hp\\appdata\\local\\programs\\python\\python311\\lib\\site-packages (from trio~=0.17->selenium) (1.15.1)\n",
      "Requirement already satisfied: exceptiongroup in c:\\users\\hp\\appdata\\local\\programs\\python\\python311\\lib\\site-packages (from trio-websocket~=0.9->selenium) (1.1.1)\n",
      "Requirement already satisfied: wsproto>=0.14 in c:\\users\\hp\\appdata\\local\\programs\\python\\python311\\lib\\site-packages (from trio-websocket~=0.9->selenium) (1.2.0)\n",
      "Requirement already satisfied: pysocks!=1.5.7,<2.0,>=1.5.6 in c:\\users\\hp\\appdata\\local\\programs\\python\\python311\\lib\\site-packages (from urllib3[socks]<3,>=1.26->selenium) (1.7.1)\n",
      "Requirement already satisfied: pycparser in c:\\users\\hp\\appdata\\local\\programs\\python\\python311\\lib\\site-packages (from cffi>=1.14->trio~=0.17->selenium) (2.21)\n",
      "Requirement already satisfied: h11<1,>=0.9.0 in c:\\users\\hp\\appdata\\local\\programs\\python\\python311\\lib\\site-packages (from wsproto>=0.14->trio-websocket~=0.9->selenium) (0.14.0)\n",
      "Downloading urllib3-2.0.4-py3-none-any.whl (123 kB)\n",
      "   ---------------------------------------- 0.0/123.9 kB ? eta -:--:--\n",
      "   --------- ----------------------------- 30.7/123.9 kB 640.0 kB/s eta 0:00:01\n",
      "   ------------ -------------------------- 41.0/123.9 kB 393.8 kB/s eta 0:00:01\n",
      "   ------------------- ------------------- 61.4/123.9 kB 363.1 kB/s eta 0:00:01\n",
      "   ------------------------- ------------- 81.9/123.9 kB 416.7 kB/s eta 0:00:01\n",
      "   ----------------------------- --------- 92.2/123.9 kB 374.1 kB/s eta 0:00:01\n",
      "   ----------------------------- --------- 92.2/123.9 kB 374.1 kB/s eta 0:00:01\n",
      "   -------------------------------------  122.9/123.9 kB 359.9 kB/s eta 0:00:01\n",
      "   -------------------------------------- 123.9/123.9 kB 330.4 kB/s eta 0:00:00\n",
      "Installing collected packages: urllib3\n",
      "  Attempting uninstall: urllib3\n",
      "    Found existing installation: urllib3 1.25.11\n",
      "    Uninstalling urllib3-1.25.11:\n",
      "      Successfully uninstalled urllib3-1.25.11\n",
      "Successfully installed urllib3-2.0.4\n"
     ]
    },
    {
     "name": "stderr",
     "output_type": "stream",
     "text": [
      "ERROR: pip's dependency resolver does not currently take into account all the packages that are installed. This behaviour is the source of the following dependency conflicts.\n",
      "requests 2.22.0 requires urllib3!=1.25.0,!=1.25.1,<1.26,>=1.21.1, but you have urllib3 2.0.4 which is incompatible.\n"
     ]
    },
    {
     "name": "stdout",
     "output_type": "stream",
     "text": [
      "Collecting pycrypto==2.6.1"
     ]
    },
    {
     "name": "stderr",
     "output_type": "stream",
     "text": [
      "  error: subprocess-exited-with-error\n",
      "  \n",
      "  Building wheel for pycrypto (pyproject.toml) did not run successfully.\n",
      "  exit code: 1\n",
      "  \n",
      "  [28 lines of output]\n",
      "  warning: GMP or MPIR library not found; Not building Crypto.PublicKey._fastmath.\n",
      "  winrand.c\n",
      "  C:\\Program Files (x86)\\Windows Kits\\10\\include\\10.0.22000.0\\ucrt\\inttypes.h(31): error C2061: error de sintaxis: identificador 'intmax_t'\n",
      "  C:\\Program Files (x86)\\Windows Kits\\10\\include\\10.0.22000.0\\ucrt\\inttypes.h(32): error C2061: error de sintaxis: identificador 'rem'\n",
      "  C:\\Program Files (x86)\\Windows Kits\\10\\include\\10.0.22000.0\\ucrt\\inttypes.h(32): error C2059: error de sintaxis: ';'\n",
      "  C:\\Program Files (x86)\\Windows Kits\\10\\include\\10.0.22000.0\\ucrt\\inttypes.h(33): error C2059: error de sintaxis: '}'\n",
      "  C:\\Program Files (x86)\\Windows Kits\\10\\include\\10.0.22000.0\\ucrt\\inttypes.h(35): error C2061: error de sintaxis: identificador 'imaxdiv_t'\n",
      "  C:\\Program Files (x86)\\Windows Kits\\10\\include\\10.0.22000.0\\ucrt\\inttypes.h(35): error C2059: error de sintaxis: ';'\n",
      "  C:\\Program Files (x86)\\Windows Kits\\10\\include\\10.0.22000.0\\ucrt\\inttypes.h(45): error C2143: error de sintaxis: falta '{' delante de '__cdecl'\n",
      "  C:\\Program Files (x86)\\Windows Kits\\10\\include\\10.0.22000.0\\ucrt\\inttypes.h(46): error C2146: error de sintaxis: falta ')' delante del identificador '_Number'\n",
      "  C:\\Program Files (x86)\\Windows Kits\\10\\include\\10.0.22000.0\\ucrt\\inttypes.h(46): error C2061: error de sintaxis: identificador '_Number'\n",
      "  C:\\Program Files (x86)\\Windows Kits\\10\\include\\10.0.22000.0\\ucrt\\inttypes.h(46): error C2059: error de sintaxis: ';'\n",
      "  C:\\Program Files (x86)\\Windows Kits\\10\\include\\10.0.22000.0\\ucrt\\inttypes.h(47): error C2059: error de sintaxis: ')'\n",
      "  C:\\Program Files (x86)\\Windows Kits\\10\\include\\10.0.22000.0\\ucrt\\inttypes.h(50): error C2143: error de sintaxis: falta '{' delante de '__cdecl'\n",
      "  C:\\Program Files (x86)\\Windows Kits\\10\\include\\10.0.22000.0\\ucrt\\inttypes.h(51): error C2146: error de sintaxis: falta ')' delante del identificador '_Numerator'\n",
      "  C:\\Program Files (x86)\\Windows Kits\\10\\include\\10.0.22000.0\\ucrt\\inttypes.h(51): error C2061: error de sintaxis: identificador '_Numerator'\n",
      "  C:\\Program Files (x86)\\Windows Kits\\10\\include\\10.0.22000.0\\ucrt\\inttypes.h(51): error C2059: error de sintaxis: ';'\n",
      "  C:\\Program Files (x86)\\Windows Kits\\10\\include\\10.0.22000.0\\ucrt\\inttypes.h(51): error C2059: error de sintaxis: ','\n",
      "  C:\\Program Files (x86)\\Windows Kits\\10\\include\\10.0.22000.0\\ucrt\\inttypes.h(53): error C2059: error de sintaxis: ')'\n",
      "  C:\\Program Files (x86)\\Windows Kits\\10\\include\\10.0.22000.0\\ucrt\\inttypes.h(55): error C2143: error de sintaxis: falta '{' delante de '__cdecl'\n",
      "  C:\\Program Files (x86)\\Windows Kits\\10\\include\\10.0.22000.0\\ucrt\\inttypes.h(61): error C2143: error de sintaxis: falta '{' delante de '__cdecl'\n",
      "  C:\\Program Files (x86)\\Windows Kits\\10\\include\\10.0.22000.0\\ucrt\\inttypes.h(68): error C2143: error de sintaxis: falta '{' delante de '__cdecl'\n",
      "  C:\\Program Files (x86)\\Windows Kits\\10\\include\\10.0.22000.0\\ucrt\\inttypes.h(74): error C2143: error de sintaxis: falta '{' delante de '__cdecl'\n",
      "  C:\\Program Files (x86)\\Windows Kits\\10\\include\\10.0.22000.0\\ucrt\\inttypes.h(81): error C2143: error de sintaxis: falta '{' delante de '__cdecl'\n",
      "  C:\\Program Files (x86)\\Windows Kits\\10\\include\\10.0.22000.0\\ucrt\\inttypes.h(87): error C2143: error de sintaxis: falta '{' delante de '__cdecl'\n",
      "  C:\\Program Files (x86)\\Windows Kits\\10\\include\\10.0.22000.0\\ucrt\\inttypes.h(94): error C2143: error de sintaxis: falta '{' delante de '__cdecl'\n",
      "  C:\\Program Files (x86)\\Windows Kits\\10\\include\\10.0.22000.0\\ucrt\\inttypes.h(100): error C2143: error de sintaxis: falta '{' delante de '__cdecl'\n",
      "  error: command 'C:\\\\Program Files (x86)\\\\Microsoft Visual Studio\\\\2022\\\\BuildTools\\\\VC\\\\Tools\\\\MSVC\\\\14.36.32532\\\\bin\\\\HostX86\\\\x64\\\\cl.exe' failed with exit code 2\n",
      "  [end of output]\n",
      "  \n",
      "  note: This error originates from a subprocess, and is likely not a problem with pip.\n",
      "  ERROR: Failed building wheel for pycrypto\n",
      "ERROR: Could not build wheels for pycrypto, which is required to install pyproject.toml-based projects\n"
     ]
    },
    {
     "name": "stdout",
     "output_type": "stream",
     "text": [
      "\n",
      "  Using cached pycrypto-2.6.1.tar.gz (446 kB)\n",
      "  Installing build dependencies: started\n",
      "  Installing build dependencies: finished with status 'done'\n",
      "  Getting requirements to build wheel: started\n",
      "  Getting requirements to build wheel: finished with status 'done'\n",
      "  Preparing metadata (pyproject.toml): started\n",
      "  Preparing metadata (pyproject.toml): finished with status 'done'\n",
      "Building wheels for collected packages: pycrypto\n",
      "  Building wheel for pycrypto (pyproject.toml): started\n",
      "  Building wheel for pycrypto (pyproject.toml): finished with status 'error'\n",
      "Failed to build pycrypto\n"
     ]
    }
   ],
   "source": [
    "!pip install jsonpickle==1.4.1\n",
    "!pip install json5==0.8.4\n",
    "!pip install Flask==1.1.1\n",
    "!pip install Flask-Classful==0.14.2\n",
    "!pip install p2pntework==0.0.3\n",
    "!pip install requests==2.22.0\n",
    "!pip install selenium\n",
    "!pip install pycrypto==2.6.1"
   ]
  },
  {
   "cell_type": "code",
   "execution_count": 2,
   "id": "f0d65ecd",
   "metadata": {},
   "outputs": [
    {
     "ename": "ModuleNotFoundError",
     "evalue": "No module named 'Crypto'",
     "output_type": "error",
     "traceback": [
      "\u001b[1;31m---------------------------------------------------------------------------\u001b[0m",
      "\u001b[1;31mModuleNotFoundError\u001b[0m                       Traceback (most recent call last)",
      "Cell \u001b[1;32mIn [2], line 2\u001b[0m\n\u001b[0;32m      1\u001b[0m \u001b[38;5;66;03m# BlochainUtils.py\u001b[39;00m\n\u001b[1;32m----> 2\u001b[0m \u001b[38;5;28;01mfrom\u001b[39;00m \u001b[38;5;21;01mCrypto\u001b[39;00m\u001b[38;5;21;01m.\u001b[39;00m\u001b[38;5;21;01mHash\u001b[39;00m \u001b[38;5;28;01mimport\u001b[39;00m SHA256\n\u001b[0;32m      3\u001b[0m \u001b[38;5;28;01mimport\u001b[39;00m \u001b[38;5;21;01mjson\u001b[39;00m\n\u001b[0;32m      5\u001b[0m \u001b[38;5;28;01mclass\u001b[39;00m \u001b[38;5;21;01mBlockchainUntils\u001b[39;00m():\n",
      "\u001b[1;31mModuleNotFoundError\u001b[0m: No module named 'Crypto'"
     ]
    }
   ],
   "source": [
    "# BlochainUtils.py\n",
    "from Crypto.Hash import SHA256\n",
    "import json\n",
    "\n",
    "class BlockchainUntils():\n",
    "    \n",
    "    @staticmethod\n",
    "    def hash(data):\n",
    "        data_string = json.dumps(data)\n",
    "        data_bytes = data_string.encode('utf-8')\n",
    "        data_hash = SHA256.new(data_bytes)\n",
    "        return data_hash"
   ]
  },
  {
   "cell_type": "code",
   "execution_count": null,
   "id": "f52bf19e",
   "metadata": {},
   "outputs": [],
   "source": [
    "# Transaction.py\n",
    "import uuid\n",
    "import time\n",
    "from copy import deecopy\n",
    "\n",
    "class Transaction():\n",
    "    def __init__(self,sender_public_key,receiver_public_key,amount,tx_type):\n",
    "        self.sender_public_key = sender_public_key\n",
    "        self.receiver_public_key = receiver_public_key\n",
    "        self.amount = amount\n",
    "        self.tx_type = tx_type\n",
    "        self.id = (uuid.uuid()).hex\n",
    "        self.timestamp = time.time()\n",
    "        self.signature = ''\n",
    "        \n",
    "    def to_json(self):\n",
    "        return self.__dict__\n",
    "    \n",
    "    def sign(self, signature):\n",
    "        self.signature = signature\n",
    "    \n",
    "    def payload(self):\n",
    "        json_representation = "
   ]
  },
  {
   "cell_type": "code",
   "execution_count": null,
   "id": "e80e7278",
   "metadata": {},
   "outputs": [],
   "source": []
  }
 ],
 "metadata": {
  "kernelspec": {
   "display_name": "Python 3 (ipykernel)",
   "language": "python",
   "name": "python3"
  },
  "language_info": {
   "codemirror_mode": {
    "name": "ipython",
    "version": 3
   },
   "file_extension": ".py",
   "mimetype": "text/x-python",
   "name": "python",
   "nbconvert_exporter": "python",
   "pygments_lexer": "ipython3",
   "version": "3.10.6"
  }
 },
 "nbformat": 4,
 "nbformat_minor": 5
}
